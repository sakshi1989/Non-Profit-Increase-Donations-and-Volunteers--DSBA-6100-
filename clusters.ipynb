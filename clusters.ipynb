{
 "cells": [
  {
   "cell_type": "markdown",
   "metadata": {},
   "source": [
    "## Clustering on Survey Data ##"
   ]
  },
  {
   "cell_type": "code",
   "execution_count": 43,
   "metadata": {},
   "outputs": [],
   "source": [
    "import pandas as pd\n",
    "# from kmodes.kmodes import KModes\n",
    "import matplotlib.pyplot as plt\n",
    "import plotly.express as px\n",
    "from sklearn.preprocessing import MinMaxScaler, OrdinalEncoder\n",
    "from sklearn.cluster import KMeans\n",
    "import seaborn as sns"
   ]
  },
  {
   "cell_type": "code",
   "execution_count": 15,
   "metadata": {},
   "outputs": [
    {
     "data": {
      "text/html": [
       "<div>\n",
       "<style scoped>\n",
       "    .dataframe tbody tr th:only-of-type {\n",
       "        vertical-align: middle;\n",
       "    }\n",
       "\n",
       "    .dataframe tbody tr th {\n",
       "        vertical-align: top;\n",
       "    }\n",
       "\n",
       "    .dataframe thead th {\n",
       "        text-align: right;\n",
       "    }\n",
       "</style>\n",
       "<table border=\"1\" class=\"dataframe\">\n",
       "  <thead>\n",
       "    <tr style=\"text-align: right;\">\n",
       "      <th></th>\n",
       "      <th>Timestamp</th>\n",
       "      <th>What is your age?</th>\n",
       "      <th>Do you rent or own your home?</th>\n",
       "      <th>Which of the following genders do you most identify with?</th>\n",
       "      <th>Which of the following best describes your total annual income?</th>\n",
       "      <th>Which of the following best describes your ethnicity?</th>\n",
       "      <th>What is the ZIP code of your residence?</th>\n",
       "      <th>Which of the following best describes your current employment status?</th>\n",
       "      <th>Which option best describes your industry?</th>\n",
       "      <th>Are you now married, widowed, divorced, separated, or never married?</th>\n",
       "      <th>Does your company participate in Habitat for Humanity donor matching program?</th>\n",
       "      <th>Which of the following non-profit organizations are you familiar with?</th>\n",
       "      <th>When was the last time you made a donation to any of the above mentioned organizations?</th>\n",
       "      <th>Roughly how much do you contribute annually in charitable donations to any organization?</th>\n",
       "      <th>When was the last time you visited a Habitat for Humanity store?</th>\n",
       "      <th>What was the purpose of your last visit to a Habitat for Humanity store?</th>\n",
       "      <th>Would you be likely to make a donation to Habitat for Humanity in the future?</th>\n",
       "      <th>Habitat for Humanity builds homes at low cost for families in need. Were you already familiar with this program?</th>\n",
       "      <th>Were you aware of the dollar for dollar sponsorship program where industry sponsors match their employee, and sometimes public donations, to Habitat for Humanity?</th>\n",
       "    </tr>\n",
       "  </thead>\n",
       "  <tbody>\n",
       "    <tr>\n",
       "      <th>0</th>\n",
       "      <td>2022/03/02 10:56:22 AM AST</td>\n",
       "      <td>18 to 24</td>\n",
       "      <td>Rent</td>\n",
       "      <td>Male</td>\n",
       "      <td>Under $30,000</td>\n",
       "      <td>White</td>\n",
       "      <td>28211</td>\n",
       "      <td>Student</td>\n",
       "      <td>Not Applicable (Retired, Student, or Unemployed)</td>\n",
       "      <td>Never married</td>\n",
       "      <td>NaN</td>\n",
       "      <td>Habitat for Humanity;Goodwill;Salvation Army</td>\n",
       "      <td>Never</td>\n",
       "      <td>None</td>\n",
       "      <td>Never Visited</td>\n",
       "      <td>Have never visited a habitat for humanity loca...</td>\n",
       "      <td>Yes</td>\n",
       "      <td>Yes</td>\n",
       "      <td>No</td>\n",
       "    </tr>\n",
       "    <tr>\n",
       "      <th>1</th>\n",
       "      <td>2022/03/02 10:57:13 AM AST</td>\n",
       "      <td>18 to 24</td>\n",
       "      <td>Own</td>\n",
       "      <td>Male</td>\n",
       "      <td>$100,000 to $149,999</td>\n",
       "      <td>White</td>\n",
       "      <td>28208</td>\n",
       "      <td>Employed full-time</td>\n",
       "      <td>Finance and Insurance</td>\n",
       "      <td>Never married</td>\n",
       "      <td>NaN</td>\n",
       "      <td>Habitat for Humanity;Goodwill;Salvation Army</td>\n",
       "      <td>Never</td>\n",
       "      <td>Between $100 and $500</td>\n",
       "      <td>More than a year</td>\n",
       "      <td>Donation;Shopping</td>\n",
       "      <td>Yes</td>\n",
       "      <td>No</td>\n",
       "      <td>No</td>\n",
       "    </tr>\n",
       "    <tr>\n",
       "      <th>2</th>\n",
       "      <td>2022/03/02 11:06:39 AM AST</td>\n",
       "      <td>25 to 34</td>\n",
       "      <td>Own</td>\n",
       "      <td>Female</td>\n",
       "      <td>Under $30,000</td>\n",
       "      <td>Asian</td>\n",
       "      <td>28078</td>\n",
       "      <td>Student</td>\n",
       "      <td>Not Applicable (Retired, Student, or Unemployed)</td>\n",
       "      <td>Married</td>\n",
       "      <td>I don't know</td>\n",
       "      <td>Goodwill</td>\n",
       "      <td>Never</td>\n",
       "      <td>Less than $100</td>\n",
       "      <td>Never Visited</td>\n",
       "      <td>Have never visited a habitat for humanity loca...</td>\n",
       "      <td>Maybe</td>\n",
       "      <td>No</td>\n",
       "      <td>No</td>\n",
       "    </tr>\n",
       "    <tr>\n",
       "      <th>3</th>\n",
       "      <td>2022/03/02 1:16:13 PM AST</td>\n",
       "      <td>35 to 44</td>\n",
       "      <td>Rent</td>\n",
       "      <td>Female</td>\n",
       "      <td>$50,000 to $74,999</td>\n",
       "      <td>Black or African American</td>\n",
       "      <td>28078</td>\n",
       "      <td>Employed full-time</td>\n",
       "      <td>Finance and Insurance</td>\n",
       "      <td>Divorced</td>\n",
       "      <td>I don't know</td>\n",
       "      <td>Habitat for Humanity;Goodwill;Salvation Army</td>\n",
       "      <td>In last 1 year</td>\n",
       "      <td>Between $100 and $500</td>\n",
       "      <td>More than a year</td>\n",
       "      <td>Shopping</td>\n",
       "      <td>Maybe</td>\n",
       "      <td>Yes</td>\n",
       "      <td>No</td>\n",
       "    </tr>\n",
       "    <tr>\n",
       "      <th>4</th>\n",
       "      <td>2022/03/02 2:54:51 PM AST</td>\n",
       "      <td>55 to 64</td>\n",
       "      <td>Own</td>\n",
       "      <td>Female</td>\n",
       "      <td>$150,000 or more</td>\n",
       "      <td>White</td>\n",
       "      <td>28031</td>\n",
       "      <td>Employed full-time</td>\n",
       "      <td>Real Estate, Rental or Leasing</td>\n",
       "      <td>Married</td>\n",
       "      <td>No</td>\n",
       "      <td>Habitat for Humanity;Goodwill;Salvation Army</td>\n",
       "      <td>In last 1 year</td>\n",
       "      <td>Over $10,000</td>\n",
       "      <td>In last 1 year</td>\n",
       "      <td>Shopping</td>\n",
       "      <td>Maybe</td>\n",
       "      <td>Yes</td>\n",
       "      <td>Yes</td>\n",
       "    </tr>\n",
       "  </tbody>\n",
       "</table>\n",
       "</div>"
      ],
      "text/plain": [
       "                    Timestamp What is your age? Do you rent or own your home?  \\\n",
       "0  2022/03/02 10:56:22 AM AST          18 to 24                          Rent   \n",
       "1  2022/03/02 10:57:13 AM AST          18 to 24                           Own   \n",
       "2  2022/03/02 11:06:39 AM AST          25 to 34                           Own   \n",
       "3   2022/03/02 1:16:13 PM AST          35 to 44                          Rent   \n",
       "4   2022/03/02 2:54:51 PM AST          55 to 64                           Own   \n",
       "\n",
       "  Which of the following genders do you most identify with?  \\\n",
       "0                                               Male          \n",
       "1                                               Male          \n",
       "2                                             Female          \n",
       "3                                             Female          \n",
       "4                                             Female          \n",
       "\n",
       "  Which of the following best describes your total annual income?  \\\n",
       "0                                      Under $30,000                \n",
       "1                               $100,000 to $149,999                \n",
       "2                                      Under $30,000                \n",
       "3                                 $50,000 to $74,999                \n",
       "4                                   $150,000 or more                \n",
       "\n",
       "  Which of the following best describes your ethnicity?  \\\n",
       "0                                              White      \n",
       "1                                              White      \n",
       "2                                              Asian      \n",
       "3                          Black or African American      \n",
       "4                                              White      \n",
       "\n",
       "  What is the ZIP code of your residence?  \\\n",
       "0                                   28211   \n",
       "1                                   28208   \n",
       "2                                   28078   \n",
       "3                                   28078   \n",
       "4                                   28031   \n",
       "\n",
       "  Which of the following best describes your current employment status?  \\\n",
       "0                                            Student                      \n",
       "1                                 Employed full-time                      \n",
       "2                                            Student                      \n",
       "3                                 Employed full-time                      \n",
       "4                                 Employed full-time                      \n",
       "\n",
       "         Which option best describes your industry?  \\\n",
       "0  Not Applicable (Retired, Student, or Unemployed)   \n",
       "1                             Finance and Insurance   \n",
       "2  Not Applicable (Retired, Student, or Unemployed)   \n",
       "3                             Finance and Insurance   \n",
       "4                    Real Estate, Rental or Leasing   \n",
       "\n",
       "  Are you now married, widowed, divorced, separated, or never married?  \\\n",
       "0                                      Never married                     \n",
       "1                                      Never married                     \n",
       "2                                            Married                     \n",
       "3                                           Divorced                     \n",
       "4                                            Married                     \n",
       "\n",
       "  Does your company participate in Habitat for Humanity donor matching program?  \\\n",
       "0                                                NaN                              \n",
       "1                                                NaN                              \n",
       "2                                       I don't know                              \n",
       "3                                       I don't know                              \n",
       "4                                                 No                              \n",
       "\n",
       "  Which of the following non-profit organizations are you familiar with?  \\\n",
       "0       Habitat for Humanity;Goodwill;Salvation Army                       \n",
       "1       Habitat for Humanity;Goodwill;Salvation Army                       \n",
       "2                                           Goodwill                       \n",
       "3       Habitat for Humanity;Goodwill;Salvation Army                       \n",
       "4       Habitat for Humanity;Goodwill;Salvation Army                       \n",
       "\n",
       "  When was the last time you made a donation to any of the above mentioned organizations?  \\\n",
       "0                                              Never                                        \n",
       "1                                              Never                                        \n",
       "2                                              Never                                        \n",
       "3                                     In last 1 year                                        \n",
       "4                                     In last 1 year                                        \n",
       "\n",
       "  Roughly how much do you contribute annually in charitable donations to any organization?  \\\n",
       "0                                               None                                         \n",
       "1                              Between $100 and $500                                         \n",
       "2                                     Less than $100                                         \n",
       "3                              Between $100 and $500                                         \n",
       "4                                       Over $10,000                                         \n",
       "\n",
       "  When was the last time you visited a Habitat for Humanity store?  \\\n",
       "0                                      Never Visited                 \n",
       "1                                   More than a year                 \n",
       "2                                      Never Visited                 \n",
       "3                                   More than a year                 \n",
       "4                                     In last 1 year                 \n",
       "\n",
       "  What was the purpose of your last visit to a Habitat for Humanity store?  \\\n",
       "0  Have never visited a habitat for humanity loca...                         \n",
       "1                                  Donation;Shopping                         \n",
       "2  Have never visited a habitat for humanity loca...                         \n",
       "3                                           Shopping                         \n",
       "4                                           Shopping                         \n",
       "\n",
       "  Would you be likely to make a donation to Habitat for Humanity in the future?  \\\n",
       "0                                                Yes                              \n",
       "1                                                Yes                              \n",
       "2                                              Maybe                              \n",
       "3                                              Maybe                              \n",
       "4                                              Maybe                              \n",
       "\n",
       "  Habitat for Humanity builds homes at low cost for families in need. Were you already familiar with this program?  \\\n",
       "0                                                Yes                                                                 \n",
       "1                                                 No                                                                 \n",
       "2                                                 No                                                                 \n",
       "3                                                Yes                                                                 \n",
       "4                                                Yes                                                                 \n",
       "\n",
       "  Were you aware of the dollar for dollar sponsorship program where industry sponsors match their employee, and sometimes public donations, to Habitat for Humanity?  \n",
       "0                                                 No                                                                                                                  \n",
       "1                                                 No                                                                                                                  \n",
       "2                                                 No                                                                                                                  \n",
       "3                                                 No                                                                                                                  \n",
       "4                                                Yes                                                                                                                  "
      ]
     },
     "execution_count": 15,
     "metadata": {},
     "output_type": "execute_result"
    }
   ],
   "source": [
    "# As zipcodes are considered to be as integer by pandas, we want to convert it to str. The zipcodes starting with 0 will have the 0 removed if we keep the data type as integer and this will be misleading\n",
    "\n",
    "df_data = pd.read_csv('./Project_Survey.csv',dtype={'What is the ZIP code of your residence?':'str'})\n",
    "df_data.head()"
   ]
  },
  {
   "cell_type": "code",
   "execution_count": 16,
   "metadata": {},
   "outputs": [
    {
     "name": "stdout",
     "output_type": "stream",
     "text": [
      "<class 'pandas.core.frame.DataFrame'>\n",
      "RangeIndex: 144 entries, 0 to 143\n",
      "Data columns (total 19 columns):\n",
      " #   Column                                                                                                                                                              Non-Null Count  Dtype \n",
      "---  ------                                                                                                                                                              --------------  ----- \n",
      " 0   Timestamp                                                                                                                                                           144 non-null    object\n",
      " 1   What is your age?                                                                                                                                                   144 non-null    object\n",
      " 2   Do you rent or own your home?                                                                                                                                       143 non-null    object\n",
      " 3   Which of the following genders do you most identify with?                                                                                                           144 non-null    object\n",
      " 4   Which of the following best describes your total annual income?                                                                                                     144 non-null    object\n",
      " 5   Which of the following best describes your ethnicity?                                                                                                               144 non-null    object\n",
      " 6   What is the ZIP code of your residence?                                                                                                                             144 non-null    object\n",
      " 7   Which of the following best describes your current employment status?                                                                                               144 non-null    object\n",
      " 8   Which option best describes your industry?                                                                                                                          144 non-null    object\n",
      " 9   Are you now married, widowed, divorced, separated, or never married?                                                                                                144 non-null    object\n",
      " 10  Does your company participate in Habitat for Humanity donor matching program?                                                                                       141 non-null    object\n",
      " 11  Which of the following non-profit organizations are you familiar with?                                                                                              142 non-null    object\n",
      " 12  When was the last time you made a donation to any of the above mentioned organizations?                                                                             144 non-null    object\n",
      " 13  Roughly how much do you contribute annually in charitable donations to any organization?                                                                            143 non-null    object\n",
      " 14  When was the last time you visited a Habitat for Humanity store?                                                                                                    144 non-null    object\n",
      " 15  What was the purpose of your last visit to a Habitat for Humanity store?                                                                                            137 non-null    object\n",
      " 16  Would you be likely to make a donation to Habitat for Humanity in the future?                                                                                       144 non-null    object\n",
      " 17  Habitat for Humanity builds homes at low cost for families in need. Were you already familiar with this program?                                                    144 non-null    object\n",
      " 18  Were you aware of the dollar for dollar sponsorship program where industry sponsors match their employee, and sometimes public donations, to Habitat for Humanity?  144 non-null    object\n",
      "dtypes: object(19)\n",
      "memory usage: 21.5+ KB\n"
     ]
    }
   ],
   "source": [
    "# Data type and no. of non-null records for each feature\n",
    "df_data.info()"
   ]
  },
  {
   "cell_type": "code",
   "execution_count": 17,
   "metadata": {},
   "outputs": [],
   "source": [
    "# Renaming column names\n",
    "name_dict = {'What is your age?':'age',\n",
    "             'Do you rent or own your home?' : 'rent?',\n",
    "             'Which of the following genders do you most identify with?' : 'gender',\n",
    "             'Which of the following best describes your total annual income?' : 'tot_annual_income',\n",
    "             'Which of the following best describes your ethnicity?' : 'ethnicity',\n",
    "             'What is the ZIP code of your residence?' : 'zip_code',\n",
    "             'Which of the following best describes your current employment status?' : 'employment_status',\n",
    "             'Which option best describes your industry?' : 'industry',\n",
    "             'Are you now married, widowed, divorced, separated, or never married?' : 'marital_status',\n",
    "             'Does your company participate in Habitat for Humanity donor matching program?' : 'company_participation_donor_match',\n",
    "             'Which of the following non-profit organizations are you familiar with?' : 'non_profit_familiarity',\n",
    "             'When was the last time you made a donation to any of the above mentioned organizations?' : 'last_donation_made',\n",
    "             'Roughly how much do you contribute annually in charitable donations to any organization?' : 'annual_contribution',\n",
    "             'When was the last time you visited a Habitat for Humanity store?' : 'habitat_last_visit',\n",
    "             'What was the purpose of your last visit to a Habitat for Humanity store?' : 'purpose',\n",
    "             'Would you be likely to make a donation to Habitat for Humanity in the future?' : 'future_donation?',\n",
    "             'Habitat for Humanity builds homes at low cost for families in need. Were you already familiar with this program?':'home_build_awareness',\n",
    "             'Were you aware of the dollar for dollar sponsorship program where industry sponsors match their employee, and sometimes public donations, to Habitat for Humanity?' : 'donor_match_awareness',\n",
    "             }\n",
    "df_data.rename(name_dict,axis=1,inplace=True)"
   ]
  },
  {
   "cell_type": "code",
   "execution_count": 18,
   "metadata": {},
   "outputs": [
    {
     "data": {
      "text/html": [
       "<div>\n",
       "<style scoped>\n",
       "    .dataframe tbody tr th:only-of-type {\n",
       "        vertical-align: middle;\n",
       "    }\n",
       "\n",
       "    .dataframe tbody tr th {\n",
       "        vertical-align: top;\n",
       "    }\n",
       "\n",
       "    .dataframe thead th {\n",
       "        text-align: right;\n",
       "    }\n",
       "</style>\n",
       "<table border=\"1\" class=\"dataframe\">\n",
       "  <thead>\n",
       "    <tr style=\"text-align: right;\">\n",
       "      <th></th>\n",
       "      <th>Timestamp</th>\n",
       "      <th>age</th>\n",
       "      <th>rent?</th>\n",
       "      <th>gender</th>\n",
       "      <th>tot_annual_income</th>\n",
       "      <th>ethnicity</th>\n",
       "      <th>zip_code</th>\n",
       "      <th>employment_status</th>\n",
       "      <th>industry</th>\n",
       "      <th>marital_status</th>\n",
       "      <th>company_participation_donor_match</th>\n",
       "      <th>non_profit_familiarity</th>\n",
       "      <th>last_donation_made</th>\n",
       "      <th>annual_contribution</th>\n",
       "      <th>habitat_last_visit</th>\n",
       "      <th>purpose</th>\n",
       "      <th>future_donation?</th>\n",
       "      <th>home_build_awareness</th>\n",
       "      <th>donor_match_awareness</th>\n",
       "    </tr>\n",
       "  </thead>\n",
       "  <tbody>\n",
       "    <tr>\n",
       "      <th>0</th>\n",
       "      <td>2022/03/02 10:56:22 AM AST</td>\n",
       "      <td>18 to 24</td>\n",
       "      <td>Rent</td>\n",
       "      <td>Male</td>\n",
       "      <td>Under $30,000</td>\n",
       "      <td>White</td>\n",
       "      <td>28211</td>\n",
       "      <td>Student</td>\n",
       "      <td>Not Applicable (Retired, Student, or Unemployed)</td>\n",
       "      <td>Never married</td>\n",
       "      <td>NaN</td>\n",
       "      <td>Habitat for Humanity;Goodwill;Salvation Army</td>\n",
       "      <td>Never</td>\n",
       "      <td>None</td>\n",
       "      <td>Never Visited</td>\n",
       "      <td>Have never visited a habitat for humanity loca...</td>\n",
       "      <td>Yes</td>\n",
       "      <td>Yes</td>\n",
       "      <td>No</td>\n",
       "    </tr>\n",
       "    <tr>\n",
       "      <th>1</th>\n",
       "      <td>2022/03/02 10:57:13 AM AST</td>\n",
       "      <td>18 to 24</td>\n",
       "      <td>Own</td>\n",
       "      <td>Male</td>\n",
       "      <td>$100,000 to $149,999</td>\n",
       "      <td>White</td>\n",
       "      <td>28208</td>\n",
       "      <td>Employed full-time</td>\n",
       "      <td>Finance and Insurance</td>\n",
       "      <td>Never married</td>\n",
       "      <td>NaN</td>\n",
       "      <td>Habitat for Humanity;Goodwill;Salvation Army</td>\n",
       "      <td>Never</td>\n",
       "      <td>Between $100 and $500</td>\n",
       "      <td>More than a year</td>\n",
       "      <td>Donation;Shopping</td>\n",
       "      <td>Yes</td>\n",
       "      <td>No</td>\n",
       "      <td>No</td>\n",
       "    </tr>\n",
       "    <tr>\n",
       "      <th>2</th>\n",
       "      <td>2022/03/02 11:06:39 AM AST</td>\n",
       "      <td>25 to 34</td>\n",
       "      <td>Own</td>\n",
       "      <td>Female</td>\n",
       "      <td>Under $30,000</td>\n",
       "      <td>Asian</td>\n",
       "      <td>28078</td>\n",
       "      <td>Student</td>\n",
       "      <td>Not Applicable (Retired, Student, or Unemployed)</td>\n",
       "      <td>Married</td>\n",
       "      <td>I don't know</td>\n",
       "      <td>Goodwill</td>\n",
       "      <td>Never</td>\n",
       "      <td>Less than $100</td>\n",
       "      <td>Never Visited</td>\n",
       "      <td>Have never visited a habitat for humanity loca...</td>\n",
       "      <td>Maybe</td>\n",
       "      <td>No</td>\n",
       "      <td>No</td>\n",
       "    </tr>\n",
       "    <tr>\n",
       "      <th>3</th>\n",
       "      <td>2022/03/02 1:16:13 PM AST</td>\n",
       "      <td>35 to 44</td>\n",
       "      <td>Rent</td>\n",
       "      <td>Female</td>\n",
       "      <td>$50,000 to $74,999</td>\n",
       "      <td>Black or African American</td>\n",
       "      <td>28078</td>\n",
       "      <td>Employed full-time</td>\n",
       "      <td>Finance and Insurance</td>\n",
       "      <td>Divorced</td>\n",
       "      <td>I don't know</td>\n",
       "      <td>Habitat for Humanity;Goodwill;Salvation Army</td>\n",
       "      <td>In last 1 year</td>\n",
       "      <td>Between $100 and $500</td>\n",
       "      <td>More than a year</td>\n",
       "      <td>Shopping</td>\n",
       "      <td>Maybe</td>\n",
       "      <td>Yes</td>\n",
       "      <td>No</td>\n",
       "    </tr>\n",
       "    <tr>\n",
       "      <th>4</th>\n",
       "      <td>2022/03/02 2:54:51 PM AST</td>\n",
       "      <td>55 to 64</td>\n",
       "      <td>Own</td>\n",
       "      <td>Female</td>\n",
       "      <td>$150,000 or more</td>\n",
       "      <td>White</td>\n",
       "      <td>28031</td>\n",
       "      <td>Employed full-time</td>\n",
       "      <td>Real Estate, Rental or Leasing</td>\n",
       "      <td>Married</td>\n",
       "      <td>No</td>\n",
       "      <td>Habitat for Humanity;Goodwill;Salvation Army</td>\n",
       "      <td>In last 1 year</td>\n",
       "      <td>Over $10,000</td>\n",
       "      <td>In last 1 year</td>\n",
       "      <td>Shopping</td>\n",
       "      <td>Maybe</td>\n",
       "      <td>Yes</td>\n",
       "      <td>Yes</td>\n",
       "    </tr>\n",
       "  </tbody>\n",
       "</table>\n",
       "</div>"
      ],
      "text/plain": [
       "                    Timestamp       age rent?  gender     tot_annual_income  \\\n",
       "0  2022/03/02 10:56:22 AM AST  18 to 24  Rent    Male         Under $30,000   \n",
       "1  2022/03/02 10:57:13 AM AST  18 to 24   Own    Male  $100,000 to $149,999   \n",
       "2  2022/03/02 11:06:39 AM AST  25 to 34   Own  Female         Under $30,000   \n",
       "3   2022/03/02 1:16:13 PM AST  35 to 44  Rent  Female    $50,000 to $74,999   \n",
       "4   2022/03/02 2:54:51 PM AST  55 to 64   Own  Female      $150,000 or more   \n",
       "\n",
       "                   ethnicity zip_code   employment_status  \\\n",
       "0                      White    28211             Student   \n",
       "1                      White    28208  Employed full-time   \n",
       "2                      Asian    28078             Student   \n",
       "3  Black or African American    28078  Employed full-time   \n",
       "4                      White    28031  Employed full-time   \n",
       "\n",
       "                                           industry marital_status  \\\n",
       "0  Not Applicable (Retired, Student, or Unemployed)  Never married   \n",
       "1                             Finance and Insurance  Never married   \n",
       "2  Not Applicable (Retired, Student, or Unemployed)        Married   \n",
       "3                             Finance and Insurance       Divorced   \n",
       "4                    Real Estate, Rental or Leasing        Married   \n",
       "\n",
       "  company_participation_donor_match  \\\n",
       "0                               NaN   \n",
       "1                               NaN   \n",
       "2                      I don't know   \n",
       "3                      I don't know   \n",
       "4                                No   \n",
       "\n",
       "                         non_profit_familiarity last_donation_made  \\\n",
       "0  Habitat for Humanity;Goodwill;Salvation Army              Never   \n",
       "1  Habitat for Humanity;Goodwill;Salvation Army              Never   \n",
       "2                                      Goodwill              Never   \n",
       "3  Habitat for Humanity;Goodwill;Salvation Army     In last 1 year   \n",
       "4  Habitat for Humanity;Goodwill;Salvation Army     In last 1 year   \n",
       "\n",
       "     annual_contribution habitat_last_visit  \\\n",
       "0                   None      Never Visited   \n",
       "1  Between $100 and $500   More than a year   \n",
       "2         Less than $100      Never Visited   \n",
       "3  Between $100 and $500   More than a year   \n",
       "4           Over $10,000     In last 1 year   \n",
       "\n",
       "                                             purpose future_donation?  \\\n",
       "0  Have never visited a habitat for humanity loca...              Yes   \n",
       "1                                  Donation;Shopping              Yes   \n",
       "2  Have never visited a habitat for humanity loca...            Maybe   \n",
       "3                                           Shopping            Maybe   \n",
       "4                                           Shopping            Maybe   \n",
       "\n",
       "  home_build_awareness donor_match_awareness  \n",
       "0                  Yes                    No  \n",
       "1                   No                    No  \n",
       "2                   No                    No  \n",
       "3                  Yes                    No  \n",
       "4                  Yes                   Yes  "
      ]
     },
     "execution_count": 18,
     "metadata": {},
     "output_type": "execute_result"
    }
   ],
   "source": [
    "df_data.head()"
   ]
  },
  {
   "cell_type": "code",
   "execution_count": 19,
   "metadata": {},
   "outputs": [
    {
     "data": {
      "text/plain": [
       "(144, 19)"
      ]
     },
     "execution_count": 19,
     "metadata": {},
     "output_type": "execute_result"
    }
   ],
   "source": [
    "df_data.shape"
   ]
  },
  {
   "cell_type": "code",
   "execution_count": 20,
   "metadata": {},
   "outputs": [
    {
     "name": "stdout",
     "output_type": "stream",
     "text": [
      "['28211' '28208' '28078' '28031' '27612' '28210' '27540' '28206' '23230'\n",
      " '28203' '28403' '23434' '28205' '37343' '28202' '28027' '14510' '28278'\n",
      " '29464' '29707' '27615' '80221' '28207' '27502' '125005' '1140' '27597'\n",
      " '27127' '29440' '96161' '33496' '28164' '29715' '28204' '28214' '28270'\n",
      " '28269' '11235' '78717' '10512' '28134' '28054' '81526' '28226' '28212'\n",
      " '29720' '28215' '27606' '29732' '29611' '27103' '28012' '27613' '06070'\n",
      " '32225' '32703' '21234' '27616' '28209' '34288' '30318' '30309' '29803'\n",
      " '85339' '95822' '28173' '28277' '15232' '28117' '27617' '28262' '29708'\n",
      " '27409' '28213' '27511' '27877' '28217' '27523']\n"
     ]
    }
   ],
   "source": [
    "print(df_data['zip_code'].unique())"
   ]
  },
  {
   "cell_type": "markdown",
   "metadata": {},
   "source": [
    "Survey was put on the social media website which led to people from countries other than US to respond, and our focus was for the United States, so the cleaning of zip codes was the important step"
   ]
  },
  {
   "cell_type": "code",
   "execution_count": 21,
   "metadata": {},
   "outputs": [],
   "source": [
    "# Removing zip codes with values greater than 5 \n",
    "df_data['zip_code'] = df_data['zip_code'].astype(str)\n",
    "df_data.drop(df_data[df_data['zip_code'].str.len() != 5 ].index,inplace=True)"
   ]
  },
  {
   "cell_type": "code",
   "execution_count": 22,
   "metadata": {},
   "outputs": [
    {
     "data": {
      "text/html": [
       "<div>\n",
       "<style scoped>\n",
       "    .dataframe tbody tr th:only-of-type {\n",
       "        vertical-align: middle;\n",
       "    }\n",
       "\n",
       "    .dataframe tbody tr th {\n",
       "        vertical-align: top;\n",
       "    }\n",
       "\n",
       "    .dataframe thead th {\n",
       "        text-align: right;\n",
       "    }\n",
       "</style>\n",
       "<table border=\"1\" class=\"dataframe\">\n",
       "  <thead>\n",
       "    <tr style=\"text-align: right;\">\n",
       "      <th></th>\n",
       "      <th>Timestamp</th>\n",
       "      <th>age</th>\n",
       "      <th>rent?</th>\n",
       "      <th>gender</th>\n",
       "      <th>tot_annual_income</th>\n",
       "      <th>ethnicity</th>\n",
       "      <th>zip_code</th>\n",
       "      <th>employment_status</th>\n",
       "      <th>industry</th>\n",
       "      <th>marital_status</th>\n",
       "      <th>company_participation_donor_match</th>\n",
       "      <th>non_profit_familiarity</th>\n",
       "      <th>last_donation_made</th>\n",
       "      <th>annual_contribution</th>\n",
       "      <th>habitat_last_visit</th>\n",
       "      <th>purpose</th>\n",
       "      <th>future_donation?</th>\n",
       "      <th>home_build_awareness</th>\n",
       "      <th>donor_match_awareness</th>\n",
       "    </tr>\n",
       "  </thead>\n",
       "  <tbody>\n",
       "    <tr>\n",
       "      <th>77</th>\n",
       "      <td>2022/03/03 9:39:37 PM AST</td>\n",
       "      <td>25 to 34</td>\n",
       "      <td>Own</td>\n",
       "      <td>Female</td>\n",
       "      <td>$75,000 to $99,999</td>\n",
       "      <td>White</td>\n",
       "      <td>06070</td>\n",
       "      <td>Employed full-time</td>\n",
       "      <td>Software</td>\n",
       "      <td>Married</td>\n",
       "      <td>No</td>\n",
       "      <td>Habitat for Humanity;Goodwill;Salvation Army</td>\n",
       "      <td>In last 1 year</td>\n",
       "      <td>Less than $100</td>\n",
       "      <td>Never Visited</td>\n",
       "      <td>NaN</td>\n",
       "      <td>Maybe</td>\n",
       "      <td>Yes</td>\n",
       "      <td>No</td>\n",
       "    </tr>\n",
       "  </tbody>\n",
       "</table>\n",
       "</div>"
      ],
      "text/plain": [
       "                    Timestamp       age rent?  gender   tot_annual_income  \\\n",
       "77  2022/03/03 9:39:37 PM AST  25 to 34   Own  Female  $75,000 to $99,999   \n",
       "\n",
       "   ethnicity zip_code   employment_status  industry marital_status  \\\n",
       "77     White    06070  Employed full-time  Software        Married   \n",
       "\n",
       "   company_participation_donor_match  \\\n",
       "77                                No   \n",
       "\n",
       "                          non_profit_familiarity last_donation_made  \\\n",
       "77  Habitat for Humanity;Goodwill;Salvation Army     In last 1 year   \n",
       "\n",
       "   annual_contribution habitat_last_visit purpose future_donation?  \\\n",
       "77      Less than $100      Never Visited     NaN            Maybe   \n",
       "\n",
       "   home_build_awareness donor_match_awareness  \n",
       "77                  Yes                    No  "
      ]
     },
     "execution_count": 22,
     "metadata": {},
     "output_type": "execute_result"
    }
   ],
   "source": [
    "# Check if the zip code statrting from 0 is still present in the data\n",
    "df_data[df_data['zip_code']=='06070']"
   ]
  },
  {
   "cell_type": "code",
   "execution_count": 23,
   "metadata": {},
   "outputs": [
    {
     "data": {
      "text/plain": [
       "(142, 19)"
      ]
     },
     "execution_count": 23,
     "metadata": {},
     "output_type": "execute_result"
    }
   ],
   "source": [
    "# Dataset size after removing zipcodes outside of United States\n",
    "df_data.shape"
   ]
  },
  {
   "cell_type": "code",
   "execution_count": 24,
   "metadata": {},
   "outputs": [
    {
     "name": "stdout",
     "output_type": "stream",
     "text": [
      "<class 'pandas.core.frame.DataFrame'>\n",
      "Int64Index: 142 entries, 0 to 143\n",
      "Data columns (total 19 columns):\n",
      " #   Column                             Non-Null Count  Dtype \n",
      "---  ------                             --------------  ----- \n",
      " 0   Timestamp                          142 non-null    object\n",
      " 1   age                                142 non-null    object\n",
      " 2   rent?                              141 non-null    object\n",
      " 3   gender                             142 non-null    object\n",
      " 4   tot_annual_income                  142 non-null    object\n",
      " 5   ethnicity                          142 non-null    object\n",
      " 6   zip_code                           142 non-null    object\n",
      " 7   employment_status                  142 non-null    object\n",
      " 8   industry                           142 non-null    object\n",
      " 9   marital_status                     142 non-null    object\n",
      " 10  company_participation_donor_match  139 non-null    object\n",
      " 11  non_profit_familiarity             141 non-null    object\n",
      " 12  last_donation_made                 142 non-null    object\n",
      " 13  annual_contribution                141 non-null    object\n",
      " 14  habitat_last_visit                 142 non-null    object\n",
      " 15  purpose                            136 non-null    object\n",
      " 16  future_donation?                   142 non-null    object\n",
      " 17  home_build_awareness               142 non-null    object\n",
      " 18  donor_match_awareness              142 non-null    object\n",
      "dtypes: object(19)\n",
      "memory usage: 22.2+ KB\n"
     ]
    }
   ],
   "source": [
    "df_data.info()"
   ]
  },
  {
   "cell_type": "code",
   "execution_count": 25,
   "metadata": {},
   "outputs": [
    {
     "data": {
      "text/plain": [
       "Timestamp                            0\n",
       "age                                  0\n",
       "rent?                                1\n",
       "gender                               0\n",
       "tot_annual_income                    0\n",
       "ethnicity                            0\n",
       "zip_code                             0\n",
       "employment_status                    0\n",
       "industry                             0\n",
       "marital_status                       0\n",
       "company_participation_donor_match    3\n",
       "non_profit_familiarity               1\n",
       "last_donation_made                   0\n",
       "annual_contribution                  1\n",
       "habitat_last_visit                   0\n",
       "purpose                              6\n",
       "future_donation?                     0\n",
       "home_build_awareness                 0\n",
       "donor_match_awareness                0\n",
       "dtype: int64"
      ]
     },
     "execution_count": 25,
     "metadata": {},
     "output_type": "execute_result"
    }
   ],
   "source": [
    "# Finding null values for each column\n",
    "df_data.isnull().sum() "
   ]
  },
  {
   "cell_type": "code",
   "execution_count": 26,
   "metadata": {},
   "outputs": [
    {
     "data": {
      "text/html": [
       "<div>\n",
       "<style scoped>\n",
       "    .dataframe tbody tr th:only-of-type {\n",
       "        vertical-align: middle;\n",
       "    }\n",
       "\n",
       "    .dataframe tbody tr th {\n",
       "        vertical-align: top;\n",
       "    }\n",
       "\n",
       "    .dataframe thead th {\n",
       "        text-align: right;\n",
       "    }\n",
       "</style>\n",
       "<table border=\"1\" class=\"dataframe\">\n",
       "  <thead>\n",
       "    <tr style=\"text-align: right;\">\n",
       "      <th></th>\n",
       "      <th>Timestamp</th>\n",
       "      <th>age</th>\n",
       "      <th>rent?</th>\n",
       "      <th>gender</th>\n",
       "      <th>tot_annual_income</th>\n",
       "      <th>ethnicity</th>\n",
       "      <th>zip_code</th>\n",
       "      <th>employment_status</th>\n",
       "      <th>industry</th>\n",
       "      <th>marital_status</th>\n",
       "      <th>company_participation_donor_match</th>\n",
       "      <th>non_profit_familiarity</th>\n",
       "      <th>last_donation_made</th>\n",
       "      <th>annual_contribution</th>\n",
       "      <th>habitat_last_visit</th>\n",
       "      <th>purpose</th>\n",
       "      <th>future_donation?</th>\n",
       "      <th>home_build_awareness</th>\n",
       "      <th>donor_match_awareness</th>\n",
       "    </tr>\n",
       "  </thead>\n",
       "  <tbody>\n",
       "    <tr>\n",
       "      <th>0</th>\n",
       "      <td>2022/03/02 10:56:22 AM AST</td>\n",
       "      <td>18 to 24</td>\n",
       "      <td>Rent</td>\n",
       "      <td>Male</td>\n",
       "      <td>Under $30,000</td>\n",
       "      <td>White</td>\n",
       "      <td>28211</td>\n",
       "      <td>Student</td>\n",
       "      <td>Not Applicable (Retired, Student, or Unemployed)</td>\n",
       "      <td>Never married</td>\n",
       "      <td>NaN</td>\n",
       "      <td>Habitat for Humanity;Goodwill;Salvation Army</td>\n",
       "      <td>Never</td>\n",
       "      <td>None</td>\n",
       "      <td>Never Visited</td>\n",
       "      <td>Have never visited a habitat for humanity loca...</td>\n",
       "      <td>Yes</td>\n",
       "      <td>Yes</td>\n",
       "      <td>No</td>\n",
       "    </tr>\n",
       "    <tr>\n",
       "      <th>1</th>\n",
       "      <td>2022/03/02 10:57:13 AM AST</td>\n",
       "      <td>18 to 24</td>\n",
       "      <td>Own</td>\n",
       "      <td>Male</td>\n",
       "      <td>$100,000 to $149,999</td>\n",
       "      <td>White</td>\n",
       "      <td>28208</td>\n",
       "      <td>Employed full-time</td>\n",
       "      <td>Finance and Insurance</td>\n",
       "      <td>Never married</td>\n",
       "      <td>NaN</td>\n",
       "      <td>Habitat for Humanity;Goodwill;Salvation Army</td>\n",
       "      <td>Never</td>\n",
       "      <td>Between $100 and $500</td>\n",
       "      <td>More than a year</td>\n",
       "      <td>Donation;Shopping</td>\n",
       "      <td>Yes</td>\n",
       "      <td>No</td>\n",
       "      <td>No</td>\n",
       "    </tr>\n",
       "    <tr>\n",
       "      <th>16</th>\n",
       "      <td>2022/03/02 5:06:57 PM AST</td>\n",
       "      <td>25 to 34</td>\n",
       "      <td>Own</td>\n",
       "      <td>Male</td>\n",
       "      <td>$150,000 or more</td>\n",
       "      <td>Asian</td>\n",
       "      <td>28078</td>\n",
       "      <td>Employed full-time</td>\n",
       "      <td>Software</td>\n",
       "      <td>Married</td>\n",
       "      <td>No</td>\n",
       "      <td>Habitat for Humanity;Goodwill;Salvation Army</td>\n",
       "      <td>More than a year</td>\n",
       "      <td>None</td>\n",
       "      <td>Never Visited</td>\n",
       "      <td>NaN</td>\n",
       "      <td>Yes</td>\n",
       "      <td>Yes</td>\n",
       "      <td>Yes</td>\n",
       "    </tr>\n",
       "    <tr>\n",
       "      <th>54</th>\n",
       "      <td>2022/03/03 12:17:57 PM AST</td>\n",
       "      <td>45 to 54</td>\n",
       "      <td>Own</td>\n",
       "      <td>Female</td>\n",
       "      <td>Prefer not to say</td>\n",
       "      <td>White</td>\n",
       "      <td>78717</td>\n",
       "      <td>Employed full-time</td>\n",
       "      <td>Software</td>\n",
       "      <td>Married</td>\n",
       "      <td>I don't know</td>\n",
       "      <td>Habitat for Humanity;Goodwill;Salvation Army</td>\n",
       "      <td>In last 1 month</td>\n",
       "      <td>NaN</td>\n",
       "      <td>More than a year</td>\n",
       "      <td>Shopping</td>\n",
       "      <td>Maybe</td>\n",
       "      <td>Yes</td>\n",
       "      <td>No</td>\n",
       "    </tr>\n",
       "    <tr>\n",
       "      <th>55</th>\n",
       "      <td>2022/03/03 12:18:21 PM AST</td>\n",
       "      <td>35 to 44</td>\n",
       "      <td>Own</td>\n",
       "      <td>Female</td>\n",
       "      <td>$150,000 or more</td>\n",
       "      <td>White</td>\n",
       "      <td>10512</td>\n",
       "      <td>Employed full-time</td>\n",
       "      <td>Software</td>\n",
       "      <td>Married</td>\n",
       "      <td>I don't know</td>\n",
       "      <td>Habitat for Humanity;Goodwill;Salvation Army</td>\n",
       "      <td>In last 1 year</td>\n",
       "      <td>Between $100 and $500</td>\n",
       "      <td>Never Visited</td>\n",
       "      <td>NaN</td>\n",
       "      <td>Maybe</td>\n",
       "      <td>Yes</td>\n",
       "      <td>No</td>\n",
       "    </tr>\n",
       "    <tr>\n",
       "      <th>77</th>\n",
       "      <td>2022/03/03 9:39:37 PM AST</td>\n",
       "      <td>25 to 34</td>\n",
       "      <td>Own</td>\n",
       "      <td>Female</td>\n",
       "      <td>$75,000 to $99,999</td>\n",
       "      <td>White</td>\n",
       "      <td>06070</td>\n",
       "      <td>Employed full-time</td>\n",
       "      <td>Software</td>\n",
       "      <td>Married</td>\n",
       "      <td>No</td>\n",
       "      <td>Habitat for Humanity;Goodwill;Salvation Army</td>\n",
       "      <td>In last 1 year</td>\n",
       "      <td>Less than $100</td>\n",
       "      <td>Never Visited</td>\n",
       "      <td>NaN</td>\n",
       "      <td>Maybe</td>\n",
       "      <td>Yes</td>\n",
       "      <td>No</td>\n",
       "    </tr>\n",
       "    <tr>\n",
       "      <th>84</th>\n",
       "      <td>2022/03/04 2:37:27 PM AST</td>\n",
       "      <td>18 to 24</td>\n",
       "      <td>Own</td>\n",
       "      <td>Female</td>\n",
       "      <td>$50,000 to $74,999</td>\n",
       "      <td>White</td>\n",
       "      <td>34288</td>\n",
       "      <td>Employed full-time</td>\n",
       "      <td>Arts, Entertainment, and Recreation</td>\n",
       "      <td>Never married</td>\n",
       "      <td>I don't know</td>\n",
       "      <td>Habitat for Humanity;Goodwill;Salvation Army</td>\n",
       "      <td>In last 1 year</td>\n",
       "      <td>Between $100 and $500</td>\n",
       "      <td>Never Visited</td>\n",
       "      <td>NaN</td>\n",
       "      <td>Yes</td>\n",
       "      <td>No</td>\n",
       "      <td>No</td>\n",
       "    </tr>\n",
       "    <tr>\n",
       "      <th>99</th>\n",
       "      <td>2022/03/06 6:41:55 PM AST</td>\n",
       "      <td>35 to 44</td>\n",
       "      <td>NaN</td>\n",
       "      <td>Male</td>\n",
       "      <td>$150,000 or more</td>\n",
       "      <td>Asian</td>\n",
       "      <td>28277</td>\n",
       "      <td>Employed full-time</td>\n",
       "      <td>Software</td>\n",
       "      <td>Married</td>\n",
       "      <td>Yes</td>\n",
       "      <td>Habitat for Humanity;Goodwill;Salvation Army</td>\n",
       "      <td>More than a year</td>\n",
       "      <td>Between $1500 and $2500</td>\n",
       "      <td>Never Visited</td>\n",
       "      <td>Have never visited a habitat for humanity loca...</td>\n",
       "      <td>Yes</td>\n",
       "      <td>Yes</td>\n",
       "      <td>Yes</td>\n",
       "    </tr>\n",
       "    <tr>\n",
       "      <th>109</th>\n",
       "      <td>2022/03/08 11:00:28 AM AST</td>\n",
       "      <td>45 to 54</td>\n",
       "      <td>Own</td>\n",
       "      <td>Female</td>\n",
       "      <td>$100,000 to $149,999</td>\n",
       "      <td>White</td>\n",
       "      <td>29708</td>\n",
       "      <td>Employed part-time</td>\n",
       "      <td>Software</td>\n",
       "      <td>Married</td>\n",
       "      <td>I don't know</td>\n",
       "      <td>Habitat for Humanity;Goodwill;Salvation Army</td>\n",
       "      <td>In last 1 year</td>\n",
       "      <td>Between $100 and $500</td>\n",
       "      <td>Never Visited</td>\n",
       "      <td>NaN</td>\n",
       "      <td>Maybe</td>\n",
       "      <td>Yes</td>\n",
       "      <td>No</td>\n",
       "    </tr>\n",
       "    <tr>\n",
       "      <th>125</th>\n",
       "      <td>2022/03/13 9:54:06 PM AST</td>\n",
       "      <td>45 to 54</td>\n",
       "      <td>Rent</td>\n",
       "      <td>Male</td>\n",
       "      <td>$100,000 to $149,999</td>\n",
       "      <td>Asian</td>\n",
       "      <td>28210</td>\n",
       "      <td>Employed full-time</td>\n",
       "      <td>Software</td>\n",
       "      <td>Married</td>\n",
       "      <td>Yes</td>\n",
       "      <td>NaN</td>\n",
       "      <td>Never</td>\n",
       "      <td>Between $100 and $500</td>\n",
       "      <td>More than a year</td>\n",
       "      <td>Donation;Shopping</td>\n",
       "      <td>Maybe</td>\n",
       "      <td>No</td>\n",
       "      <td>No</td>\n",
       "    </tr>\n",
       "    <tr>\n",
       "      <th>142</th>\n",
       "      <td>2022/03/28 7:20:22 PM AST</td>\n",
       "      <td>18 to 24</td>\n",
       "      <td>Rent</td>\n",
       "      <td>Female</td>\n",
       "      <td>Under $30,000</td>\n",
       "      <td>Asian</td>\n",
       "      <td>28262</td>\n",
       "      <td>Student</td>\n",
       "      <td>Software</td>\n",
       "      <td>Never married</td>\n",
       "      <td>NaN</td>\n",
       "      <td>Goodwill</td>\n",
       "      <td>Never</td>\n",
       "      <td>None</td>\n",
       "      <td>Never Visited</td>\n",
       "      <td>NaN</td>\n",
       "      <td>Maybe</td>\n",
       "      <td>No</td>\n",
       "      <td>No</td>\n",
       "    </tr>\n",
       "  </tbody>\n",
       "</table>\n",
       "</div>"
      ],
      "text/plain": [
       "                      Timestamp       age rent?  gender     tot_annual_income  \\\n",
       "0    2022/03/02 10:56:22 AM AST  18 to 24  Rent    Male         Under $30,000   \n",
       "1    2022/03/02 10:57:13 AM AST  18 to 24   Own    Male  $100,000 to $149,999   \n",
       "16    2022/03/02 5:06:57 PM AST  25 to 34   Own    Male      $150,000 or more   \n",
       "54   2022/03/03 12:17:57 PM AST  45 to 54   Own  Female     Prefer not to say   \n",
       "55   2022/03/03 12:18:21 PM AST  35 to 44   Own  Female      $150,000 or more   \n",
       "77    2022/03/03 9:39:37 PM AST  25 to 34   Own  Female    $75,000 to $99,999   \n",
       "84    2022/03/04 2:37:27 PM AST  18 to 24   Own  Female    $50,000 to $74,999   \n",
       "99    2022/03/06 6:41:55 PM AST  35 to 44   NaN    Male      $150,000 or more   \n",
       "109  2022/03/08 11:00:28 AM AST  45 to 54   Own  Female  $100,000 to $149,999   \n",
       "125   2022/03/13 9:54:06 PM AST  45 to 54  Rent    Male  $100,000 to $149,999   \n",
       "142   2022/03/28 7:20:22 PM AST  18 to 24  Rent  Female         Under $30,000   \n",
       "\n",
       "    ethnicity zip_code   employment_status  \\\n",
       "0       White    28211             Student   \n",
       "1       White    28208  Employed full-time   \n",
       "16      Asian    28078  Employed full-time   \n",
       "54      White    78717  Employed full-time   \n",
       "55      White    10512  Employed full-time   \n",
       "77      White    06070  Employed full-time   \n",
       "84      White    34288  Employed full-time   \n",
       "99      Asian    28277  Employed full-time   \n",
       "109     White    29708  Employed part-time   \n",
       "125     Asian    28210  Employed full-time   \n",
       "142     Asian    28262             Student   \n",
       "\n",
       "                                             industry marital_status  \\\n",
       "0    Not Applicable (Retired, Student, or Unemployed)  Never married   \n",
       "1                               Finance and Insurance  Never married   \n",
       "16                                           Software        Married   \n",
       "54                                           Software        Married   \n",
       "55                                           Software        Married   \n",
       "77                                           Software        Married   \n",
       "84                Arts, Entertainment, and Recreation  Never married   \n",
       "99                                           Software        Married   \n",
       "109                                          Software        Married   \n",
       "125                                          Software        Married   \n",
       "142                                          Software  Never married   \n",
       "\n",
       "    company_participation_donor_match  \\\n",
       "0                                 NaN   \n",
       "1                                 NaN   \n",
       "16                                 No   \n",
       "54                       I don't know   \n",
       "55                       I don't know   \n",
       "77                                 No   \n",
       "84                       I don't know   \n",
       "99                                Yes   \n",
       "109                      I don't know   \n",
       "125                               Yes   \n",
       "142                               NaN   \n",
       "\n",
       "                           non_profit_familiarity last_donation_made  \\\n",
       "0    Habitat for Humanity;Goodwill;Salvation Army              Never   \n",
       "1    Habitat for Humanity;Goodwill;Salvation Army              Never   \n",
       "16   Habitat for Humanity;Goodwill;Salvation Army   More than a year   \n",
       "54   Habitat for Humanity;Goodwill;Salvation Army    In last 1 month   \n",
       "55   Habitat for Humanity;Goodwill;Salvation Army     In last 1 year   \n",
       "77   Habitat for Humanity;Goodwill;Salvation Army     In last 1 year   \n",
       "84   Habitat for Humanity;Goodwill;Salvation Army     In last 1 year   \n",
       "99   Habitat for Humanity;Goodwill;Salvation Army   More than a year   \n",
       "109  Habitat for Humanity;Goodwill;Salvation Army     In last 1 year   \n",
       "125                                           NaN              Never   \n",
       "142                                      Goodwill              Never   \n",
       "\n",
       "         annual_contribution habitat_last_visit  \\\n",
       "0                       None      Never Visited   \n",
       "1      Between $100 and $500   More than a year   \n",
       "16                      None      Never Visited   \n",
       "54                       NaN   More than a year   \n",
       "55     Between $100 and $500      Never Visited   \n",
       "77            Less than $100      Never Visited   \n",
       "84     Between $100 and $500      Never Visited   \n",
       "99   Between $1500 and $2500      Never Visited   \n",
       "109    Between $100 and $500      Never Visited   \n",
       "125    Between $100 and $500   More than a year   \n",
       "142                     None      Never Visited   \n",
       "\n",
       "                                               purpose future_donation?  \\\n",
       "0    Have never visited a habitat for humanity loca...              Yes   \n",
       "1                                    Donation;Shopping              Yes   \n",
       "16                                                 NaN              Yes   \n",
       "54                                            Shopping            Maybe   \n",
       "55                                                 NaN            Maybe   \n",
       "77                                                 NaN            Maybe   \n",
       "84                                                 NaN              Yes   \n",
       "99   Have never visited a habitat for humanity loca...              Yes   \n",
       "109                                                NaN            Maybe   \n",
       "125                                  Donation;Shopping            Maybe   \n",
       "142                                                NaN            Maybe   \n",
       "\n",
       "    home_build_awareness donor_match_awareness  \n",
       "0                    Yes                    No  \n",
       "1                     No                    No  \n",
       "16                   Yes                   Yes  \n",
       "54                   Yes                    No  \n",
       "55                   Yes                    No  \n",
       "77                   Yes                    No  \n",
       "84                    No                    No  \n",
       "99                   Yes                   Yes  \n",
       "109                  Yes                    No  \n",
       "125                   No                    No  \n",
       "142                   No                    No  "
      ]
     },
     "execution_count": 26,
     "metadata": {},
     "output_type": "execute_result"
    }
   ],
   "source": [
    "# Retrieve rows with null values\n",
    "df_data[df_data.isnull().any(axis=1)]"
   ]
  },
  {
   "cell_type": "code",
   "execution_count": 27,
   "metadata": {},
   "outputs": [],
   "source": [
    "# For row_index=54, person has donated in last month, but has not mentioned annual_contribution, so putting the lowest value - \"Less than $100\"\n",
    "df_data.loc[54,'annual_contribution'] = 'Less than $100'"
   ]
  },
  {
   "cell_type": "code",
   "execution_count": 28,
   "metadata": {},
   "outputs": [
    {
     "data": {
      "text/plain": [
       "Timestamp                                              2022/03/03 12:17:57 PM AST\n",
       "age                                                                      45 to 54\n",
       "rent?                                                                         Own\n",
       "gender                                                                     Female\n",
       "tot_annual_income                                               Prefer not to say\n",
       "ethnicity                                                                   White\n",
       "zip_code                                                                    78717\n",
       "employment_status                                              Employed full-time\n",
       "industry                                                                 Software\n",
       "marital_status                                                            Married\n",
       "company_participation_donor_match                                    I don't know\n",
       "non_profit_familiarity               Habitat for Humanity;Goodwill;Salvation Army\n",
       "last_donation_made                                                In last 1 month\n",
       "annual_contribution                                                Less than $100\n",
       "habitat_last_visit                                               More than a year\n",
       "purpose                                                                  Shopping\n",
       "future_donation?                                                            Maybe\n",
       "home_build_awareness                                                          Yes\n",
       "donor_match_awareness                                                          No\n",
       "Name: 54, dtype: object"
      ]
     },
     "execution_count": 28,
     "metadata": {},
     "output_type": "execute_result"
    }
   ],
   "source": [
    "df_data.loc[54]"
   ]
  },
  {
   "cell_type": "code",
   "execution_count": 29,
   "metadata": {},
   "outputs": [
    {
     "data": {
      "text/plain": [
       "Timestamp                            0\n",
       "age                                  0\n",
       "rent?                                1\n",
       "gender                               0\n",
       "tot_annual_income                    0\n",
       "ethnicity                            0\n",
       "zip_code                             0\n",
       "employment_status                    0\n",
       "industry                             0\n",
       "marital_status                       0\n",
       "company_participation_donor_match    3\n",
       "non_profit_familiarity               1\n",
       "last_donation_made                   0\n",
       "annual_contribution                  0\n",
       "habitat_last_visit                   0\n",
       "purpose                              6\n",
       "future_donation?                     0\n",
       "home_build_awareness                 0\n",
       "donor_match_awareness                0\n",
       "dtype: int64"
      ]
     },
     "execution_count": 29,
     "metadata": {},
     "output_type": "execute_result"
    }
   ],
   "source": [
    "# Finding null values for each column\n",
    "df_data.isnull().sum() "
   ]
  },
  {
   "cell_type": "code",
   "execution_count": 30,
   "metadata": {},
   "outputs": [
    {
     "data": {
      "text/html": [
       "<div>\n",
       "<style scoped>\n",
       "    .dataframe tbody tr th:only-of-type {\n",
       "        vertical-align: middle;\n",
       "    }\n",
       "\n",
       "    .dataframe tbody tr th {\n",
       "        vertical-align: top;\n",
       "    }\n",
       "\n",
       "    .dataframe thead th {\n",
       "        text-align: right;\n",
       "    }\n",
       "</style>\n",
       "<table border=\"1\" class=\"dataframe\">\n",
       "  <thead>\n",
       "    <tr style=\"text-align: right;\">\n",
       "      <th></th>\n",
       "      <th>tot_annual_income</th>\n",
       "      <th>last_donation_made</th>\n",
       "      <th>annual_contribution</th>\n",
       "      <th>future_donation?</th>\n",
       "    </tr>\n",
       "  </thead>\n",
       "  <tbody>\n",
       "    <tr>\n",
       "      <th>0</th>\n",
       "      <td>Under $30,000</td>\n",
       "      <td>Never</td>\n",
       "      <td>None</td>\n",
       "      <td>Yes</td>\n",
       "    </tr>\n",
       "    <tr>\n",
       "      <th>1</th>\n",
       "      <td>$100,000 to $149,999</td>\n",
       "      <td>Never</td>\n",
       "      <td>Between $100 and $500</td>\n",
       "      <td>Yes</td>\n",
       "    </tr>\n",
       "    <tr>\n",
       "      <th>2</th>\n",
       "      <td>Under $30,000</td>\n",
       "      <td>Never</td>\n",
       "      <td>Less than $100</td>\n",
       "      <td>Maybe</td>\n",
       "    </tr>\n",
       "    <tr>\n",
       "      <th>3</th>\n",
       "      <td>$50,000 to $74,999</td>\n",
       "      <td>In last 1 year</td>\n",
       "      <td>Between $100 and $500</td>\n",
       "      <td>Maybe</td>\n",
       "    </tr>\n",
       "    <tr>\n",
       "      <th>4</th>\n",
       "      <td>$150,000 or more</td>\n",
       "      <td>In last 1 year</td>\n",
       "      <td>Over $10,000</td>\n",
       "      <td>Maybe</td>\n",
       "    </tr>\n",
       "  </tbody>\n",
       "</table>\n",
       "</div>"
      ],
      "text/plain": [
       "      tot_annual_income last_donation_made    annual_contribution  \\\n",
       "0         Under $30,000              Never                   None   \n",
       "1  $100,000 to $149,999              Never  Between $100 and $500   \n",
       "2         Under $30,000              Never         Less than $100   \n",
       "3    $50,000 to $74,999     In last 1 year  Between $100 and $500   \n",
       "4      $150,000 or more     In last 1 year           Over $10,000   \n",
       "\n",
       "  future_donation?  \n",
       "0              Yes  \n",
       "1              Yes  \n",
       "2            Maybe  \n",
       "3            Maybe  \n",
       "4            Maybe  "
      ]
     },
     "execution_count": 30,
     "metadata": {},
     "output_type": "execute_result"
    }
   ],
   "source": [
    "# Retrieving columns on which Kmeans clusters will be made, by doing Ordinal Encoding\n",
    "df_features = ['tot_annual_income','last_donation_made','annual_contribution','future_donation?']\n",
    "df_cluster_data = df_data[df_features].copy()\n",
    "df_cluster_data.head()"
   ]
  },
  {
   "cell_type": "code",
   "execution_count": 31,
   "metadata": {},
   "outputs": [
    {
     "name": "stdout",
     "output_type": "stream",
     "text": [
      "The unique values for tot_annual_income are: \n",
      "['Under $30,000' '$100,000 to $149,999' '$50,000 to $74,999'\n",
      " '$150,000 or more' '$75,000 to $99,999' 'Prefer not to say'\n",
      " '$30,000 to $49,999']\n",
      "The unique values for last_donation_made are: \n",
      "['Never' 'In last 1 year' 'More than a year' 'In last 1 week'\n",
      " 'In last 1 month']\n",
      "The unique values for annual_contribution are: \n",
      "['None' 'Between $100 and $500' 'Less than $100' 'Over $10,000'\n",
      " 'Between $1500 and $2500' 'Between $500 and $1500'\n",
      " 'between $2500 and $10,000']\n",
      "The unique values for future_donation? are: \n",
      "['Yes' 'Maybe' 'No']\n"
     ]
    }
   ],
   "source": [
    "# Get the unique values for all the columns to be used for K-Means clustering\n",
    "for col in df_features:\n",
    "    print(f'The unique values for {col} are: ')\n",
    "    print(df_cluster_data[col].unique())"
   ]
  },
  {
   "cell_type": "code",
   "execution_count": 32,
   "metadata": {},
   "outputs": [],
   "source": [
    "# The values in the list from left to right has weights lowest to highest. We will pass this list to Ordinalencoder, to make it assign codes\n",
    "# based on our order\n",
    "income_list = ['Prefer not to say','Under $30,000','$30,000 to $49,999','$50,000 to $74,999','$75,000 to $99,999','$100,000 to $149,999','$150,000 or more']\n",
    "last_donation_list = ['Never','In last 1 week','In last 1 month','More than a year','In last 1 year']\n",
    "annual_contribution_list = ['None','Less than $100','Between $100 and $500','Between $500 and $1500','Between $1500 and $2500','between $2500 and $10,000','Over $10,000',]\n",
    "future_donation_list = ['No','Maybe','Yes']"
   ]
  },
  {
   "cell_type": "code",
   "execution_count": 33,
   "metadata": {},
   "outputs": [
    {
     "data": {
      "text/plain": [
       "array([[1., 0., 0., 2.],\n",
       "       [5., 0., 2., 2.],\n",
       "       [1., 0., 1., 1.],\n",
       "       [3., 4., 2., 1.],\n",
       "       [6., 4., 6., 1.],\n",
       "       [1., 3., 2., 1.],\n",
       "       [6., 3., 1., 1.],\n",
       "       [6., 3., 1., 0.]])"
      ]
     },
     "execution_count": 33,
     "metadata": {},
     "output_type": "execute_result"
    }
   ],
   "source": [
    "# Instantiating Ordinal Encoder\n",
    "oe = OrdinalEncoder(categories=[income_list,last_donation_list,annual_contribution_list,future_donation_list])\n",
    "\n",
    "oe.fit_transform(df_cluster_data[['tot_annual_income','last_donation_made','annual_contribution','future_donation?']])[:8]"
   ]
  },
  {
   "cell_type": "code",
   "execution_count": 34,
   "metadata": {},
   "outputs": [
    {
     "data": {
      "text/html": [
       "<div>\n",
       "<style scoped>\n",
       "    .dataframe tbody tr th:only-of-type {\n",
       "        vertical-align: middle;\n",
       "    }\n",
       "\n",
       "    .dataframe tbody tr th {\n",
       "        vertical-align: top;\n",
       "    }\n",
       "\n",
       "    .dataframe thead th {\n",
       "        text-align: right;\n",
       "    }\n",
       "</style>\n",
       "<table border=\"1\" class=\"dataframe\">\n",
       "  <thead>\n",
       "    <tr style=\"text-align: right;\">\n",
       "      <th></th>\n",
       "      <th>tot_annual_income</th>\n",
       "      <th>last_donation_made</th>\n",
       "      <th>annual_contribution</th>\n",
       "      <th>future_donation?</th>\n",
       "    </tr>\n",
       "  </thead>\n",
       "  <tbody>\n",
       "    <tr>\n",
       "      <th>0</th>\n",
       "      <td>Under $30,000</td>\n",
       "      <td>Never</td>\n",
       "      <td>None</td>\n",
       "      <td>Yes</td>\n",
       "    </tr>\n",
       "    <tr>\n",
       "      <th>1</th>\n",
       "      <td>$100,000 to $149,999</td>\n",
       "      <td>Never</td>\n",
       "      <td>Between $100 and $500</td>\n",
       "      <td>Yes</td>\n",
       "    </tr>\n",
       "    <tr>\n",
       "      <th>2</th>\n",
       "      <td>Under $30,000</td>\n",
       "      <td>Never</td>\n",
       "      <td>Less than $100</td>\n",
       "      <td>Maybe</td>\n",
       "    </tr>\n",
       "    <tr>\n",
       "      <th>3</th>\n",
       "      <td>$50,000 to $74,999</td>\n",
       "      <td>In last 1 year</td>\n",
       "      <td>Between $100 and $500</td>\n",
       "      <td>Maybe</td>\n",
       "    </tr>\n",
       "    <tr>\n",
       "      <th>4</th>\n",
       "      <td>$150,000 or more</td>\n",
       "      <td>In last 1 year</td>\n",
       "      <td>Over $10,000</td>\n",
       "      <td>Maybe</td>\n",
       "    </tr>\n",
       "    <tr>\n",
       "      <th>5</th>\n",
       "      <td>Under $30,000</td>\n",
       "      <td>More than a year</td>\n",
       "      <td>Between $100 and $500</td>\n",
       "      <td>Maybe</td>\n",
       "    </tr>\n",
       "    <tr>\n",
       "      <th>6</th>\n",
       "      <td>$150,000 or more</td>\n",
       "      <td>More than a year</td>\n",
       "      <td>Less than $100</td>\n",
       "      <td>Maybe</td>\n",
       "    </tr>\n",
       "    <tr>\n",
       "      <th>7</th>\n",
       "      <td>$150,000 or more</td>\n",
       "      <td>More than a year</td>\n",
       "      <td>Less than $100</td>\n",
       "      <td>No</td>\n",
       "    </tr>\n",
       "  </tbody>\n",
       "</table>\n",
       "</div>"
      ],
      "text/plain": [
       "      tot_annual_income last_donation_made    annual_contribution  \\\n",
       "0         Under $30,000              Never                   None   \n",
       "1  $100,000 to $149,999              Never  Between $100 and $500   \n",
       "2         Under $30,000              Never         Less than $100   \n",
       "3    $50,000 to $74,999     In last 1 year  Between $100 and $500   \n",
       "4      $150,000 or more     In last 1 year           Over $10,000   \n",
       "5         Under $30,000   More than a year  Between $100 and $500   \n",
       "6      $150,000 or more   More than a year         Less than $100   \n",
       "7      $150,000 or more   More than a year         Less than $100   \n",
       "\n",
       "  future_donation?  \n",
       "0              Yes  \n",
       "1              Yes  \n",
       "2            Maybe  \n",
       "3            Maybe  \n",
       "4            Maybe  \n",
       "5            Maybe  \n",
       "6            Maybe  \n",
       "7               No  "
      ]
     },
     "execution_count": 34,
     "metadata": {},
     "output_type": "execute_result"
    }
   ],
   "source": [
    "df_cluster_data.head(8)"
   ]
  },
  {
   "cell_type": "code",
   "execution_count": 35,
   "metadata": {},
   "outputs": [
    {
     "data": {
      "text/html": [
       "<div>\n",
       "<style scoped>\n",
       "    .dataframe tbody tr th:only-of-type {\n",
       "        vertical-align: middle;\n",
       "    }\n",
       "\n",
       "    .dataframe tbody tr th {\n",
       "        vertical-align: top;\n",
       "    }\n",
       "\n",
       "    .dataframe thead th {\n",
       "        text-align: right;\n",
       "    }\n",
       "</style>\n",
       "<table border=\"1\" class=\"dataframe\">\n",
       "  <thead>\n",
       "    <tr style=\"text-align: right;\">\n",
       "      <th></th>\n",
       "      <th>tot_annual_income</th>\n",
       "      <th>last_donation_made</th>\n",
       "      <th>annual_contribution</th>\n",
       "      <th>future_donation?</th>\n",
       "    </tr>\n",
       "  </thead>\n",
       "  <tbody>\n",
       "    <tr>\n",
       "      <th>0</th>\n",
       "      <td>1.0</td>\n",
       "      <td>0.0</td>\n",
       "      <td>0.0</td>\n",
       "      <td>2.0</td>\n",
       "    </tr>\n",
       "    <tr>\n",
       "      <th>1</th>\n",
       "      <td>5.0</td>\n",
       "      <td>0.0</td>\n",
       "      <td>2.0</td>\n",
       "      <td>2.0</td>\n",
       "    </tr>\n",
       "    <tr>\n",
       "      <th>2</th>\n",
       "      <td>1.0</td>\n",
       "      <td>0.0</td>\n",
       "      <td>1.0</td>\n",
       "      <td>1.0</td>\n",
       "    </tr>\n",
       "    <tr>\n",
       "      <th>3</th>\n",
       "      <td>3.0</td>\n",
       "      <td>4.0</td>\n",
       "      <td>2.0</td>\n",
       "      <td>1.0</td>\n",
       "    </tr>\n",
       "    <tr>\n",
       "      <th>4</th>\n",
       "      <td>6.0</td>\n",
       "      <td>4.0</td>\n",
       "      <td>6.0</td>\n",
       "      <td>1.0</td>\n",
       "    </tr>\n",
       "    <tr>\n",
       "      <th>5</th>\n",
       "      <td>1.0</td>\n",
       "      <td>3.0</td>\n",
       "      <td>2.0</td>\n",
       "      <td>1.0</td>\n",
       "    </tr>\n",
       "    <tr>\n",
       "      <th>6</th>\n",
       "      <td>6.0</td>\n",
       "      <td>3.0</td>\n",
       "      <td>1.0</td>\n",
       "      <td>1.0</td>\n",
       "    </tr>\n",
       "    <tr>\n",
       "      <th>7</th>\n",
       "      <td>6.0</td>\n",
       "      <td>3.0</td>\n",
       "      <td>1.0</td>\n",
       "      <td>0.0</td>\n",
       "    </tr>\n",
       "  </tbody>\n",
       "</table>\n",
       "</div>"
      ],
      "text/plain": [
       "   tot_annual_income  last_donation_made  annual_contribution  \\\n",
       "0                1.0                 0.0                  0.0   \n",
       "1                5.0                 0.0                  2.0   \n",
       "2                1.0                 0.0                  1.0   \n",
       "3                3.0                 4.0                  2.0   \n",
       "4                6.0                 4.0                  6.0   \n",
       "5                1.0                 3.0                  2.0   \n",
       "6                6.0                 3.0                  1.0   \n",
       "7                6.0                 3.0                  1.0   \n",
       "\n",
       "   future_donation?  \n",
       "0               2.0  \n",
       "1               2.0  \n",
       "2               1.0  \n",
       "3               1.0  \n",
       "4               1.0  \n",
       "5               1.0  \n",
       "6               1.0  \n",
       "7               0.0  "
      ]
     },
     "execution_count": 35,
     "metadata": {},
     "output_type": "execute_result"
    }
   ],
   "source": [
    "df_transformed = pd.DataFrame(data=oe.fit_transform(df_cluster_data[['tot_annual_income','last_donation_made','annual_contribution','future_donation?']]),\n",
    "                              columns=['tot_annual_income','last_donation_made','annual_contribution','future_donation?'])\n",
    "df_transformed.head(8)                              "
   ]
  },
  {
   "cell_type": "markdown",
   "metadata": {},
   "source": [
    "**Elbow method to find the optimal number of clusters**"
   ]
  },
  {
   "cell_type": "code",
   "execution_count": 45,
   "metadata": {},
   "outputs": [
    {
     "data": {
      "image/png": "[encoded data removed]",
      "text/plain": [
       "<Figure size 720x432 with 1 Axes>"
      ]
     },
     "metadata": {
      "needs_background": "light"
     },
     "output_type": "display_data"
    }
   ],
   "source": [
    "# Elbow curve to find optimal clusters\n",
    "sse = []\n",
    "for n in range(1, 50):\n",
    "  kmeans = KMeans(n_clusters=n, random_state=0).fit(df_transformed)\n",
    "  sse.append(kmeans.inertia_)\n",
    "# Plotting the sse\n",
    "plt.figure(figsize=(10, 6))\n",
    "plt.scatter(range(1, 50), sse)\n",
    "plt.xticks(range(1, 50, 2))\n",
    "plt.show()"
   ]
  },
  {
   "cell_type": "code",
   "execution_count": 37,
   "metadata": {},
   "outputs": [],
   "source": [
    "# Performing K-means clustering on the transformed dataset\n",
    "kmeans = KMeans(n_clusters=4, random_state=0).fit(df_transformed)"
   ]
  },
  {
   "cell_type": "code",
   "execution_count": 38,
   "metadata": {},
   "outputs": [
    {
     "data": {
      "text/html": [
       "<div>\n",
       "<style scoped>\n",
       "    .dataframe tbody tr th:only-of-type {\n",
       "        vertical-align: middle;\n",
       "    }\n",
       "\n",
       "    .dataframe tbody tr th {\n",
       "        vertical-align: top;\n",
       "    }\n",
       "\n",
       "    .dataframe thead th {\n",
       "        text-align: right;\n",
       "    }\n",
       "</style>\n",
       "<table border=\"1\" class=\"dataframe\">\n",
       "  <thead>\n",
       "    <tr style=\"text-align: right;\">\n",
       "      <th></th>\n",
       "      <th>Total Income</th>\n",
       "      <th>Last Donation Made</th>\n",
       "      <th>Annual contribution</th>\n",
       "      <th>Intent to Donate</th>\n",
       "    </tr>\n",
       "  </thead>\n",
       "  <tbody>\n",
       "    <tr>\n",
       "      <th>0</th>\n",
       "      <td>0.8</td>\n",
       "      <td>3.0</td>\n",
       "      <td>2.0</td>\n",
       "      <td>1.2</td>\n",
       "    </tr>\n",
       "    <tr>\n",
       "      <th>1</th>\n",
       "      <td>5.5</td>\n",
       "      <td>2.5</td>\n",
       "      <td>3.8</td>\n",
       "      <td>1.7</td>\n",
       "    </tr>\n",
       "    <tr>\n",
       "      <th>2</th>\n",
       "      <td>2.6</td>\n",
       "      <td>0.0</td>\n",
       "      <td>0.9</td>\n",
       "      <td>1.1</td>\n",
       "    </tr>\n",
       "    <tr>\n",
       "      <th>3</th>\n",
       "      <td>4.4</td>\n",
       "      <td>3.5</td>\n",
       "      <td>1.7</td>\n",
       "      <td>1.2</td>\n",
       "    </tr>\n",
       "  </tbody>\n",
       "</table>\n",
       "</div>"
      ],
      "text/plain": [
       "   Total Income  Last Donation Made  Annual contribution  Intent to Donate\n",
       "0           0.8                 3.0                  2.0               1.2\n",
       "1           5.5                 2.5                  3.8               1.7\n",
       "2           2.6                 0.0                  0.9               1.1\n",
       "3           4.4                 3.5                  1.7               1.2"
      ]
     },
     "execution_count": 38,
     "metadata": {},
     "output_type": "execute_result"
    }
   ],
   "source": [
    "pd.DataFrame(kmeans.cluster_centers_, columns=['Total Income', 'Last Donation Made', 'Annual contribution', 'Intent to Donate']).round(decimals=1)"
   ]
  },
  {
   "cell_type": "code",
   "execution_count": 39,
   "metadata": {},
   "outputs": [
    {
     "data": {
      "text/plain": [
       "array([2, 2, 2, 3, 1, 0, 3, 3, 0, 0, 3, 1, 3, 3, 0, 1, 3, 1, 3, 0, 2, 3,\n",
       "       3, 2, 3, 3, 1, 0, 0, 1, 2, 3, 3, 3, 1, 0, 0, 3, 0, 3, 0, 3, 2, 1,\n",
       "       1, 1, 3, 0, 1, 2, 3, 1, 0, 3, 1, 1, 1, 2, 1, 1, 3, 2, 1, 0, 3, 3,\n",
       "       3, 0, 3, 1, 3, 1, 3, 1, 3, 3, 0, 0, 3, 3, 0, 3, 3, 0, 3, 3, 3, 2,\n",
       "       2, 0, 0, 3, 3, 2, 1, 1, 1, 1, 3, 0, 1, 1, 0, 1, 3, 3, 3, 3, 0, 3,\n",
       "       3, 1, 0, 1, 1, 0, 0, 1, 1, 3, 3, 3, 1, 2, 0, 0, 1, 1, 0, 2, 1, 3,\n",
       "       3, 3, 3, 3, 3, 0, 2, 0, 2, 3])"
      ]
     },
     "execution_count": 39,
     "metadata": {},
     "output_type": "execute_result"
    }
   ],
   "source": [
    "#Cluster Values\n",
    "kmeans.labels_"
   ]
  },
  {
   "cell_type": "code",
   "execution_count": 40,
   "metadata": {},
   "outputs": [
    {
     "data": {
      "text/html": [
       "<div>\n",
       "<style scoped>\n",
       "    .dataframe tbody tr th:only-of-type {\n",
       "        vertical-align: middle;\n",
       "    }\n",
       "\n",
       "    .dataframe tbody tr th {\n",
       "        vertical-align: top;\n",
       "    }\n",
       "\n",
       "    .dataframe thead th {\n",
       "        text-align: right;\n",
       "    }\n",
       "</style>\n",
       "<table border=\"1\" class=\"dataframe\">\n",
       "  <thead>\n",
       "    <tr style=\"text-align: right;\">\n",
       "      <th></th>\n",
       "      <th>Timestamp</th>\n",
       "      <th>age</th>\n",
       "      <th>rent?</th>\n",
       "      <th>gender</th>\n",
       "      <th>tot_annual_income</th>\n",
       "      <th>ethnicity</th>\n",
       "      <th>zip_code</th>\n",
       "      <th>employment_status</th>\n",
       "      <th>industry</th>\n",
       "      <th>marital_status</th>\n",
       "      <th>company_participation_donor_match</th>\n",
       "      <th>non_profit_familiarity</th>\n",
       "      <th>last_donation_made</th>\n",
       "      <th>annual_contribution</th>\n",
       "      <th>habitat_last_visit</th>\n",
       "      <th>purpose</th>\n",
       "      <th>future_donation?</th>\n",
       "      <th>home_build_awareness</th>\n",
       "      <th>donor_match_awareness</th>\n",
       "      <th>cluster</th>\n",
       "    </tr>\n",
       "  </thead>\n",
       "  <tbody>\n",
       "    <tr>\n",
       "      <th>0</th>\n",
       "      <td>2022/03/02 10:56:22 AM AST</td>\n",
       "      <td>18 to 24</td>\n",
       "      <td>Rent</td>\n",
       "      <td>Male</td>\n",
       "      <td>Under $30,000</td>\n",
       "      <td>White</td>\n",
       "      <td>28211</td>\n",
       "      <td>Student</td>\n",
       "      <td>Not Applicable (Retired, Student, or Unemployed)</td>\n",
       "      <td>Never married</td>\n",
       "      <td>NaN</td>\n",
       "      <td>Habitat for Humanity;Goodwill;Salvation Army</td>\n",
       "      <td>Never</td>\n",
       "      <td>None</td>\n",
       "      <td>Never Visited</td>\n",
       "      <td>Have never visited a habitat for humanity loca...</td>\n",
       "      <td>Yes</td>\n",
       "      <td>Yes</td>\n",
       "      <td>No</td>\n",
       "      <td>2</td>\n",
       "    </tr>\n",
       "    <tr>\n",
       "      <th>1</th>\n",
       "      <td>2022/03/02 10:57:13 AM AST</td>\n",
       "      <td>18 to 24</td>\n",
       "      <td>Own</td>\n",
       "      <td>Male</td>\n",
       "      <td>$100,000 to $149,999</td>\n",
       "      <td>White</td>\n",
       "      <td>28208</td>\n",
       "      <td>Employed full-time</td>\n",
       "      <td>Finance and Insurance</td>\n",
       "      <td>Never married</td>\n",
       "      <td>NaN</td>\n",
       "      <td>Habitat for Humanity;Goodwill;Salvation Army</td>\n",
       "      <td>Never</td>\n",
       "      <td>Between $100 and $500</td>\n",
       "      <td>More than a year</td>\n",
       "      <td>Donation;Shopping</td>\n",
       "      <td>Yes</td>\n",
       "      <td>No</td>\n",
       "      <td>No</td>\n",
       "      <td>2</td>\n",
       "    </tr>\n",
       "    <tr>\n",
       "      <th>2</th>\n",
       "      <td>2022/03/02 11:06:39 AM AST</td>\n",
       "      <td>25 to 34</td>\n",
       "      <td>Own</td>\n",
       "      <td>Female</td>\n",
       "      <td>Under $30,000</td>\n",
       "      <td>Asian</td>\n",
       "      <td>28078</td>\n",
       "      <td>Student</td>\n",
       "      <td>Not Applicable (Retired, Student, or Unemployed)</td>\n",
       "      <td>Married</td>\n",
       "      <td>I don't know</td>\n",
       "      <td>Goodwill</td>\n",
       "      <td>Never</td>\n",
       "      <td>Less than $100</td>\n",
       "      <td>Never Visited</td>\n",
       "      <td>Have never visited a habitat for humanity loca...</td>\n",
       "      <td>Maybe</td>\n",
       "      <td>No</td>\n",
       "      <td>No</td>\n",
       "      <td>2</td>\n",
       "    </tr>\n",
       "    <tr>\n",
       "      <th>3</th>\n",
       "      <td>2022/03/02 1:16:13 PM AST</td>\n",
       "      <td>35 to 44</td>\n",
       "      <td>Rent</td>\n",
       "      <td>Female</td>\n",
       "      <td>$50,000 to $74,999</td>\n",
       "      <td>Black or African American</td>\n",
       "      <td>28078</td>\n",
       "      <td>Employed full-time</td>\n",
       "      <td>Finance and Insurance</td>\n",
       "      <td>Divorced</td>\n",
       "      <td>I don't know</td>\n",
       "      <td>Habitat for Humanity;Goodwill;Salvation Army</td>\n",
       "      <td>In last 1 year</td>\n",
       "      <td>Between $100 and $500</td>\n",
       "      <td>More than a year</td>\n",
       "      <td>Shopping</td>\n",
       "      <td>Maybe</td>\n",
       "      <td>Yes</td>\n",
       "      <td>No</td>\n",
       "      <td>3</td>\n",
       "    </tr>\n",
       "    <tr>\n",
       "      <th>4</th>\n",
       "      <td>2022/03/02 2:54:51 PM AST</td>\n",
       "      <td>55 to 64</td>\n",
       "      <td>Own</td>\n",
       "      <td>Female</td>\n",
       "      <td>$150,000 or more</td>\n",
       "      <td>White</td>\n",
       "      <td>28031</td>\n",
       "      <td>Employed full-time</td>\n",
       "      <td>Real Estate, Rental or Leasing</td>\n",
       "      <td>Married</td>\n",
       "      <td>No</td>\n",
       "      <td>Habitat for Humanity;Goodwill;Salvation Army</td>\n",
       "      <td>In last 1 year</td>\n",
       "      <td>Over $10,000</td>\n",
       "      <td>In last 1 year</td>\n",
       "      <td>Shopping</td>\n",
       "      <td>Maybe</td>\n",
       "      <td>Yes</td>\n",
       "      <td>Yes</td>\n",
       "      <td>1</td>\n",
       "    </tr>\n",
       "  </tbody>\n",
       "</table>\n",
       "</div>"
      ],
      "text/plain": [
       "                    Timestamp       age rent?  gender     tot_annual_income  \\\n",
       "0  2022/03/02 10:56:22 AM AST  18 to 24  Rent    Male         Under $30,000   \n",
       "1  2022/03/02 10:57:13 AM AST  18 to 24   Own    Male  $100,000 to $149,999   \n",
       "2  2022/03/02 11:06:39 AM AST  25 to 34   Own  Female         Under $30,000   \n",
       "3   2022/03/02 1:16:13 PM AST  35 to 44  Rent  Female    $50,000 to $74,999   \n",
       "4   2022/03/02 2:54:51 PM AST  55 to 64   Own  Female      $150,000 or more   \n",
       "\n",
       "                   ethnicity zip_code   employment_status  \\\n",
       "0                      White    28211             Student   \n",
       "1                      White    28208  Employed full-time   \n",
       "2                      Asian    28078             Student   \n",
       "3  Black or African American    28078  Employed full-time   \n",
       "4                      White    28031  Employed full-time   \n",
       "\n",
       "                                           industry marital_status  \\\n",
       "0  Not Applicable (Retired, Student, or Unemployed)  Never married   \n",
       "1                             Finance and Insurance  Never married   \n",
       "2  Not Applicable (Retired, Student, or Unemployed)        Married   \n",
       "3                             Finance and Insurance       Divorced   \n",
       "4                    Real Estate, Rental or Leasing        Married   \n",
       "\n",
       "  company_participation_donor_match  \\\n",
       "0                               NaN   \n",
       "1                               NaN   \n",
       "2                      I don't know   \n",
       "3                      I don't know   \n",
       "4                                No   \n",
       "\n",
       "                         non_profit_familiarity last_donation_made  \\\n",
       "0  Habitat for Humanity;Goodwill;Salvation Army              Never   \n",
       "1  Habitat for Humanity;Goodwill;Salvation Army              Never   \n",
       "2                                      Goodwill              Never   \n",
       "3  Habitat for Humanity;Goodwill;Salvation Army     In last 1 year   \n",
       "4  Habitat for Humanity;Goodwill;Salvation Army     In last 1 year   \n",
       "\n",
       "     annual_contribution habitat_last_visit  \\\n",
       "0                   None      Never Visited   \n",
       "1  Between $100 and $500   More than a year   \n",
       "2         Less than $100      Never Visited   \n",
       "3  Between $100 and $500   More than a year   \n",
       "4           Over $10,000     In last 1 year   \n",
       "\n",
       "                                             purpose future_donation?  \\\n",
       "0  Have never visited a habitat for humanity loca...              Yes   \n",
       "1                                  Donation;Shopping              Yes   \n",
       "2  Have never visited a habitat for humanity loca...            Maybe   \n",
       "3                                           Shopping            Maybe   \n",
       "4                                           Shopping            Maybe   \n",
       "\n",
       "  home_build_awareness donor_match_awareness  cluster  \n",
       "0                  Yes                    No        2  \n",
       "1                   No                    No        2  \n",
       "2                   No                    No        2  \n",
       "3                  Yes                    No        3  \n",
       "4                  Yes                   Yes        1  "
      ]
     },
     "execution_count": 40,
     "metadata": {},
     "output_type": "execute_result"
    }
   ],
   "source": [
    "# Assigning Cluster Values to the data\n",
    "df_data['cluster'] = kmeans.labels_\n",
    "df_data.head()"
   ]
  },
  {
   "cell_type": "code",
   "execution_count": 41,
   "metadata": {},
   "outputs": [
    {
     "data": {
      "text/html": [
       "<div>\n",
       "<style scoped>\n",
       "    .dataframe tbody tr th:only-of-type {\n",
       "        vertical-align: middle;\n",
       "    }\n",
       "\n",
       "    .dataframe tbody tr th {\n",
       "        vertical-align: top;\n",
       "    }\n",
       "\n",
       "    .dataframe thead th {\n",
       "        text-align: right;\n",
       "    }\n",
       "</style>\n",
       "<table border=\"1\" class=\"dataframe\">\n",
       "  <thead>\n",
       "    <tr style=\"text-align: right;\">\n",
       "      <th></th>\n",
       "      <th>tot_annual_income</th>\n",
       "      <th>last_donation_made</th>\n",
       "      <th>annual_contribution</th>\n",
       "      <th>future_donation?</th>\n",
       "      <th>cluster</th>\n",
       "    </tr>\n",
       "  </thead>\n",
       "  <tbody>\n",
       "    <tr>\n",
       "      <th>0</th>\n",
       "      <td>Under $30,000</td>\n",
       "      <td>Never</td>\n",
       "      <td>None</td>\n",
       "      <td>Yes</td>\n",
       "      <td>2</td>\n",
       "    </tr>\n",
       "    <tr>\n",
       "      <th>1</th>\n",
       "      <td>$100,000 to $149,999</td>\n",
       "      <td>Never</td>\n",
       "      <td>Between $100 and $500</td>\n",
       "      <td>Yes</td>\n",
       "      <td>2</td>\n",
       "    </tr>\n",
       "    <tr>\n",
       "      <th>2</th>\n",
       "      <td>Under $30,000</td>\n",
       "      <td>Never</td>\n",
       "      <td>Less than $100</td>\n",
       "      <td>Maybe</td>\n",
       "      <td>2</td>\n",
       "    </tr>\n",
       "    <tr>\n",
       "      <th>3</th>\n",
       "      <td>$50,000 to $74,999</td>\n",
       "      <td>In last 1 year</td>\n",
       "      <td>Between $100 and $500</td>\n",
       "      <td>Maybe</td>\n",
       "      <td>3</td>\n",
       "    </tr>\n",
       "    <tr>\n",
       "      <th>4</th>\n",
       "      <td>$150,000 or more</td>\n",
       "      <td>In last 1 year</td>\n",
       "      <td>Over $10,000</td>\n",
       "      <td>Maybe</td>\n",
       "      <td>1</td>\n",
       "    </tr>\n",
       "  </tbody>\n",
       "</table>\n",
       "</div>"
      ],
      "text/plain": [
       "      tot_annual_income last_donation_made    annual_contribution  \\\n",
       "0         Under $30,000              Never                   None   \n",
       "1  $100,000 to $149,999              Never  Between $100 and $500   \n",
       "2         Under $30,000              Never         Less than $100   \n",
       "3    $50,000 to $74,999     In last 1 year  Between $100 and $500   \n",
       "4      $150,000 or more     In last 1 year           Over $10,000   \n",
       "\n",
       "  future_donation?  cluster  \n",
       "0              Yes        2  \n",
       "1              Yes        2  \n",
       "2            Maybe        2  \n",
       "3            Maybe        3  \n",
       "4            Maybe        1  "
      ]
     },
     "execution_count": 41,
     "metadata": {},
     "output_type": "execute_result"
    }
   ],
   "source": [
    "# Assigning Cluster Values to the data\n",
    "df_transformed['cluster'] = kmeans.labels_\n",
    "df_transformed.head()\n",
    "df_cluster_data['cluster'] = kmeans.labels_\n",
    "df_cluster_data.head()"
   ]
  },
  {
   "cell_type": "markdown",
   "metadata": {},
   "source": [
    "**Plotting the clusters**"
   ]
  },
  {
   "cell_type": "code",
   "execution_count": 42,
   "metadata": {},
   "outputs": [
    {
     "data": {
      "application/vnd.plotly.v1+json": {
       "config": {
        "plotlyServerURL": "https://plot.ly"
       },
       "data": [
        {
         "hovertemplate": "future_donation?=Yes<br>tot_annual_income=%{x}<br>last_donation_made=%{y}<br>annual_contribution=%{z}<br>cluster=%{marker.color}<extra></extra>",
         "legendgroup": "Yes",
         "marker": {
          "color": [
           2,
           2,
           3,
           3,
           3,
           0,
           3,
           0,
           0,
           1,
           2,
           3,
           3,
           1,
           0,
           3,
           0,
           1,
           1,
           1,
           3,
           1,
           3,
           1,
           1,
           1,
           3,
           1,
           0,
           3,
           3,
           0,
           3,
           1,
           3,
           0,
           3,
           3,
           1,
           1,
           1,
           1,
           1,
           1,
           1,
           3,
           3,
           1,
           1,
           1,
           3,
           1,
           1,
           1,
           0,
           2,
           1
          ],
          "coloraxis": "coloraxis",
          "symbol": "circle"
         },
         "mode": "markers",
         "name": "Yes",
         "scene": "scene",
         "showlegend": true,
         "type": "scatter3d",
         "x": [
          "Under $30,000",
          "$100,000 to $149,999",
          "$75,000 to $99,999",
          "$150,000 or more",
          "$100,000 to $149,999",
          "$30,000 to $49,999",
          "$50,000 to $74,999",
          "Prefer not to say",
          "Prefer not to say",
          "$100,000 to $149,999",
          "$50,000 to $74,999",
          "$100,000 to $149,999",
          "$150,000 or more",
          "$150,000 or more",
          "$30,000 to $49,999",
          "$50,000 to $74,999",
          "Under $30,000",
          "$150,000 or more",
          "$75,000 to $99,999",
          "$150,000 or more",
          "$75,000 to $99,999",
          "$100,000 to $149,999",
          "$75,000 to $99,999",
          "$150,000 or more",
          "$100,000 to $149,999",
          "$100,000 to $149,999",
          "$150,000 or more",
          "$150,000 or more",
          "Prefer not to say",
          "$100,000 to $149,999",
          "$100,000 to $149,999",
          "Prefer not to say",
          "$75,000 to $99,999",
          "$75,000 to $99,999",
          "$75,000 to $99,999",
          "Under $30,000",
          "$50,000 to $74,999",
          "$100,000 to $149,999",
          "$100,000 to $149,999",
          "$100,000 to $149,999",
          "$150,000 or more",
          "$150,000 or more",
          "$150,000 or more",
          "$150,000 or more",
          "$75,000 to $99,999",
          "$100,000 to $149,999",
          "$75,000 to $99,999",
          "$150,000 or more",
          "$150,000 or more",
          "$150,000 or more",
          "$150,000 or more",
          "$75,000 to $99,999",
          "$150,000 or more",
          "$150,000 or more",
          "Prefer not to say",
          "Prefer not to say",
          "$150,000 or more"
         ],
         "y": [
          "Never",
          "Never",
          "In last 1 year",
          "More than a year",
          "More than a year",
          "More than a year",
          "More than a year",
          "In last 1 week",
          "In last 1 week",
          "In last 1 month",
          "Never",
          "In last 1 year",
          "In last 1 year",
          "In last 1 month",
          "In last 1 month",
          "In last 1 month",
          "In last 1 year",
          "In last 1 week",
          "In last 1 week",
          "More than a year",
          "More than a year",
          "In last 1 week",
          "In last 1 year",
          "In last 1 year",
          "In last 1 month",
          "In last 1 month",
          "In last 1 year",
          "In last 1 year",
          "In last 1 year",
          "In last 1 year",
          "In last 1 month",
          "In last 1 year",
          "In last 1 year",
          "In last 1 year",
          "In last 1 year",
          "In last 1 month",
          "In last 1 year",
          "In last 1 year",
          "In last 1 year",
          "In last 1 year",
          "In last 1 year",
          "More than a year",
          "In last 1 week",
          "More than a year",
          "In last 1 month",
          "More than a year",
          "In last 1 year",
          "In last 1 year",
          "In last 1 year",
          "In last 1 month",
          "More than a year",
          "In last 1 month",
          "More than a year",
          "More than a year",
          "In last 1 year",
          "Never",
          "More than a year"
         ],
         "z": [
          "None",
          "Between $100 and $500",
          "Between $500 and $1500",
          "None",
          "None",
          "None",
          "Between $100 and $500",
          "Between $100 and $500",
          "Between $100 and $500",
          "Between $500 and $1500",
          "Between $100 and $500",
          "Between $500 and $1500",
          "Between $100 and $500",
          "Between $500 and $1500",
          "Between $1500 and $2500",
          "Between $100 and $500",
          "Less than $100",
          "between $2500 and $10,000",
          "Between $500 and $1500",
          "Between $500 and $1500",
          "Between $100 and $500",
          "Between $100 and $500",
          "Between $100 and $500",
          "Between $500 and $1500",
          "between $2500 and $10,000",
          "between $2500 and $10,000",
          "Between $100 and $500",
          "Between $1500 and $2500",
          "between $2500 and $10,000",
          "Between $500 and $1500",
          "Between $100 and $500",
          "Between $500 and $1500",
          "Between $100 and $500",
          "Between $1500 and $2500",
          "Between $500 and $1500",
          "Less than $100",
          "Between $100 and $500",
          "Less than $100",
          "between $2500 and $10,000",
          "Between $1500 and $2500",
          "Between $1500 and $2500",
          "Between $1500 and $2500",
          "Between $1500 and $2500",
          "Between $500 and $1500",
          "between $2500 and $10,000",
          "Between $100 and $500",
          "Between $100 and $500",
          "Between $1500 and $2500",
          "Between $1500 and $2500",
          "between $2500 and $10,000",
          "Less than $100",
          "Between $500 and $1500",
          "Between $500 and $1500",
          "Between $500 and $1500",
          "Between $1500 and $2500",
          "Between $100 and $500",
          "Between $1500 and $2500"
         ]
        },
        {
         "hovertemplate": "future_donation?=Maybe<br>tot_annual_income=%{x}<br>last_donation_made=%{y}<br>annual_contribution=%{z}<br>cluster=%{marker.color}<extra></extra>",
         "legendgroup": "Maybe",
         "marker": {
          "color": [
           2,
           3,
           1,
           0,
           3,
           0,
           1,
           3,
           1,
           1,
           2,
           3,
           2,
           3,
           1,
           3,
           0,
           3,
           0,
           3,
           0,
           2,
           1,
           0,
           3,
           2,
           1,
           1,
           2,
           3,
           1,
           3,
           3,
           1,
           3,
           0,
           3,
           0,
           3,
           3,
           2,
           0,
           3,
           2,
           3,
           0,
           0,
           3,
           0,
           3,
           3,
           1,
           0,
           1,
           0,
           0,
           3,
           3,
           2,
           0,
           0,
           3,
           3,
           3,
           3,
           3,
           3,
           0,
           2,
           0,
           2,
           3
          ],
          "coloraxis": "coloraxis",
          "symbol": "diamond"
         },
         "mode": "markers",
         "name": "Maybe",
         "scene": "scene",
         "showlegend": true,
         "type": "scatter3d",
         "x": [
          "Under $30,000",
          "$50,000 to $74,999",
          "$150,000 or more",
          "Under $30,000",
          "$150,000 or more",
          "Under $30,000",
          "$100,000 to $149,999",
          "$75,000 to $99,999",
          "$150,000 or more",
          "$100,000 to $149,999",
          "$30,000 to $49,999",
          "$50,000 to $74,999",
          "Under $30,000",
          "$100,000 to $149,999",
          "$150,000 or more",
          "$75,000 to $99,999",
          "$30,000 to $49,999",
          "$75,000 to $99,999",
          "Prefer not to say",
          "$75,000 to $99,999",
          "Prefer not to say",
          "$75,000 to $99,999",
          "$100,000 to $149,999",
          "Prefer not to say",
          "$150,000 or more",
          "$75,000 to $99,999",
          "$150,000 or more",
          "$100,000 to $149,999",
          "$50,000 to $74,999",
          "$100,000 to $149,999",
          "$100,000 to $149,999",
          "$75,000 to $99,999",
          "$100,000 to $149,999",
          "$100,000 to $149,999",
          "$75,000 to $99,999",
          "$30,000 to $49,999",
          "$50,000 to $74,999",
          "Under $30,000",
          "$50,000 to $74,999",
          "$50,000 to $74,999",
          "$75,000 to $99,999",
          "$30,000 to $49,999",
          "$100,000 to $149,999",
          "Under $30,000",
          "$100,000 to $149,999",
          "$30,000 to $49,999",
          "Prefer not to say",
          "$100,000 to $149,999",
          "Under $30,000",
          "$100,000 to $149,999",
          "$100,000 to $149,999",
          "$150,000 or more",
          "Prefer not to say",
          "$150,000 or more",
          "Prefer not to say",
          "Prefer not to say",
          "$50,000 to $74,999",
          "$100,000 to $149,999",
          "$100,000 to $149,999",
          "Prefer not to say",
          "Prefer not to say",
          "$75,000 to $99,999",
          "$75,000 to $99,999",
          "$75,000 to $99,999",
          "$75,000 to $99,999",
          "$75,000 to $99,999",
          "$75,000 to $99,999",
          "$30,000 to $49,999",
          "Under $30,000",
          "Prefer not to say",
          "Under $30,000",
          "$100,000 to $149,999"
         ],
         "y": [
          "Never",
          "In last 1 year",
          "In last 1 year",
          "More than a year",
          "More than a year",
          "In last 1 year",
          "In last 1 week",
          "More than a year",
          "In last 1 year",
          "In last 1 year",
          "Never",
          "More than a year",
          "Never",
          "More than a year",
          "More than a year",
          "In last 1 year",
          "More than a year",
          "In last 1 year",
          "More than a year",
          "In last 1 month",
          "In last 1 year",
          "Never",
          "Never",
          "In last 1 month",
          "In last 1 year",
          "Never",
          "In last 1 year",
          "Never",
          "Never",
          "In last 1 year",
          "More than a year",
          "More than a year",
          "More than a year",
          "Never",
          "In last 1 year",
          "In last 1 year",
          "In last 1 year",
          "In last 1 year",
          "In last 1 year",
          "More than a year",
          "Never",
          "In last 1 year",
          "More than a year",
          "Never",
          "In last 1 year",
          "More than a year",
          "In last 1 year",
          "In last 1 year",
          "More than a year",
          "In last 1 year",
          "In last 1 year",
          "Never",
          "In last 1 month",
          "In last 1 month",
          "In last 1 month",
          "More than a year",
          "In last 1 month",
          "In last 1 year",
          "Never",
          "More than a year",
          "In last 1 month",
          "In last 1 year",
          "In last 1 year",
          "In last 1 year",
          "In last 1 year",
          "In last 1 year",
          "More than a year",
          "In last 1 year",
          "Never",
          "In last 1 month",
          "Never",
          "In last 1 year"
         ],
         "z": [
          "Less than $100",
          "Between $100 and $500",
          "Over $10,000",
          "Between $100 and $500",
          "Less than $100",
          "Less than $100",
          "Between $100 and $500",
          "Less than $100",
          "Between $1500 and $2500",
          "Between $1500 and $2500",
          "Between $100 and $500",
          "Between $500 and $1500",
          "None",
          "Between $100 and $500",
          "Over $10,000",
          "Between $100 and $500",
          "Less than $100",
          "Between $100 and $500",
          "Between $100 and $500",
          "Between $100 and $500",
          "Between $100 and $500",
          "Between $500 and $1500",
          "Between $1500 and $2500",
          "Less than $100",
          "Between $100 and $500",
          "Between $100 and $500",
          "Between $500 and $1500",
          "Between $1500 and $2500",
          "None",
          "None",
          "Between $500 and $1500",
          "Between $500 and $1500",
          "Between $100 and $500",
          "between $2500 and $10,000",
          "Less than $100",
          "Less than $100",
          "Less than $100",
          "None",
          "Less than $100",
          "Between $100 and $500",
          "None",
          "Between $100 and $500",
          "Less than $100",
          "None",
          "Between $500 and $1500",
          "None",
          "Between $100 and $500",
          "Between $100 and $500",
          "Between $100 and $500",
          "Less than $100",
          "Between $100 and $500",
          "Between $100 and $500",
          "Between $100 and $500",
          "Between $500 and $1500",
          "Between $500 and $1500",
          "Between $100 and $500",
          "Between $100 and $500",
          "Between $100 and $500",
          "Between $100 and $500",
          "Between $100 and $500",
          "Less than $100",
          "Between $100 and $500",
          "Between $100 and $500",
          "Between $100 and $500",
          "Between $100 and $500",
          "Between $100 and $500",
          "Between $100 and $500",
          "Between $100 and $500",
          "None",
          "between $2500 and $10,000",
          "None",
          "Between $100 and $500"
         ]
        },
        {
         "hovertemplate": "future_donation?=No<br>tot_annual_income=%{x}<br>last_donation_made=%{y}<br>annual_contribution=%{z}<br>cluster=%{marker.color}<extra></extra>",
         "legendgroup": "No",
         "marker": {
          "color": [
           3,
           0,
           3,
           0,
           3,
           2,
           0,
           3,
           3,
           3,
           2,
           0,
           3
          ],
          "coloraxis": "coloraxis",
          "symbol": "square"
         },
         "mode": "markers",
         "name": "No",
         "scene": "scene",
         "showlegend": true,
         "type": "scatter3d",
         "x": [
          "$150,000 or more",
          "Under $30,000",
          "$75,000 to $99,999",
          "Prefer not to say",
          "$150,000 or more",
          "$100,000 to $149,999",
          "$30,000 to $49,999",
          "$50,000 to $74,999",
          "$50,000 to $74,999",
          "$50,000 to $74,999",
          "$50,000 to $74,999",
          "$30,000 to $49,999",
          "$150,000 or more"
         ],
         "y": [
          "More than a year",
          "More than a year",
          "In last 1 year",
          "More than a year",
          "In last 1 month",
          "Never",
          "More than a year",
          "More than a year",
          "In last 1 year",
          "More than a year",
          "Never",
          "More than a year",
          "More than a year"
         ],
         "z": [
          "Less than $100",
          "Between $1500 and $2500",
          "Less than $100",
          "between $2500 and $10,000",
          "Between $100 and $500",
          "None",
          "Less than $100",
          "None",
          "None",
          "Between $100 and $500",
          "None",
          "None",
          "Between $100 and $500"
         ]
        }
       ],
       "layout": {
        "coloraxis": {
         "colorbar": {
          "title": {
           "text": "cluster"
          }
         },
         "colorscale": [
          [
           0,
           "#0d0887"
          ],
          [
           0.1111111111111111,
           "#46039f"
          ],
          [
           0.2222222222222222,
           "#7201a8"
          ],
          [
           0.3333333333333333,
           "#9c179e"
          ],
          [
           0.4444444444444444,
           "#bd3786"
          ],
          [
           0.5555555555555556,
           "#d8576b"
          ],
          [
           0.6666666666666666,
           "#ed7953"
          ],
          [
           0.7777777777777778,
           "#fb9f3a"
          ],
          [
           0.8888888888888888,
           "#fdca26"
          ],
          [
           1,
           "#f0f921"
          ]
         ]
        },
        "height": 1000,
        "legend": {
         "orientation": "h",
         "title": {
          "text": "future_donation?"
         },
         "tracegroupgap": 0,
         "x": 1,
         "xanchor": "right",
         "y": 1.02,
         "yanchor": "bottom"
        },
        "margin": {
         "t": 60
        },
        "scene": {
         "domain": {
          "x": [
           0,
           1
          ],
          "y": [
           0,
           1
          ]
         },
         "xaxis": {
          "title": {
           "text": "tot_annual_income"
          }
         },
         "yaxis": {
          "title": {
           "text": "last_donation_made"
          }
         },
         "zaxis": {
          "title": {
           "text": "annual_contribution"
          }
         }
        },
        "template": {
         "data": {
          "bar": [
           {
            "error_x": {
             "color": "#2a3f5f"
            },
            "error_y": {
             "color": "#2a3f5f"
            },
            "marker": {
             "line": {
              "color": "#E5ECF6",
              "width": 0.5
             },
             "pattern": {
              "fillmode": "overlay",
              "size": 10,
              "solidity": 0.2
             }
            },
            "type": "bar"
           }
          ],
          "barpolar": [
           {
            "marker": {
             "line": {
              "color": "#E5ECF6",
              "width": 0.5
             },
             "pattern": {
              "fillmode": "overlay",
              "size": 10,
              "solidity": 0.2
             }
            },
            "type": "barpolar"
           }
          ],
          "carpet": [
           {
            "aaxis": {
             "endlinecolor": "#2a3f5f",
             "gridcolor": "white",
             "linecolor": "white",
             "minorgridcolor": "white",
             "startlinecolor": "#2a3f5f"
            },
            "baxis": {
             "endlinecolor": "#2a3f5f",
             "gridcolor": "white",
             "linecolor": "white",
             "minorgridcolor": "white",
             "startlinecolor": "#2a3f5f"
            },
            "type": "carpet"
           }
          ],
          "choropleth": [
           {
            "colorbar": {
             "outlinewidth": 0,
             "ticks": ""
            },
            "type": "choropleth"
           }
          ],
          "contour": [
           {
            "colorbar": {
             "outlinewidth": 0,
             "ticks": ""
            },
            "colorscale": [
             [
              0,
              "#0d0887"
             ],
             [
              0.1111111111111111,
              "#46039f"
             ],
             [
              0.2222222222222222,
              "#7201a8"
             ],
             [
              0.3333333333333333,
              "#9c179e"
             ],
             [
              0.4444444444444444,
              "#bd3786"
             ],
             [
              0.5555555555555556,
              "#d8576b"
             ],
             [
              0.6666666666666666,
              "#ed7953"
             ],
             [
              0.7777777777777778,
              "#fb9f3a"
             ],
             [
              0.8888888888888888,
              "#fdca26"
             ],
             [
              1,
              "#f0f921"
             ]
            ],
            "type": "contour"
           }
          ],
          "contourcarpet": [
           {
            "colorbar": {
             "outlinewidth": 0,
             "ticks": ""
            },
            "type": "contourcarpet"
           }
          ],
          "heatmap": [
           {
            "colorbar": {
             "outlinewidth": 0,
             "ticks": ""
            },
            "colorscale": [
             [
              0,
              "#0d0887"
             ],
             [
              0.1111111111111111,
              "#46039f"
             ],
             [
              0.2222222222222222,
              "#7201a8"
             ],
             [
              0.3333333333333333,
              "#9c179e"
             ],
             [
              0.4444444444444444,
              "#bd3786"
             ],
             [
              0.5555555555555556,
              "#d8576b"
             ],
             [
              0.6666666666666666,
              "#ed7953"
             ],
             [
              0.7777777777777778,
              "#fb9f3a"
             ],
             [
              0.8888888888888888,
              "#fdca26"
             ],
             [
              1,
              "#f0f921"
             ]
            ],
            "type": "heatmap"
           }
          ],
          "heatmapgl": [
           {
            "colorbar": {
             "outlinewidth": 0,
             "ticks": ""
            },
            "colorscale": [
             [
              0,
              "#0d0887"
             ],
             [
              0.1111111111111111,
              "#46039f"
             ],
             [
              0.2222222222222222,
              "#7201a8"
             ],
             [
              0.3333333333333333,
              "#9c179e"
             ],
             [
              0.4444444444444444,
              "#bd3786"
             ],
             [
              0.5555555555555556,
              "#d8576b"
             ],
             [
              0.6666666666666666,
              "#ed7953"
             ],
             [
              0.7777777777777778,
              "#fb9f3a"
             ],
             [
              0.8888888888888888,
              "#fdca26"
             ],
             [
              1,
              "#f0f921"
             ]
            ],
            "type": "heatmapgl"
           }
          ],
          "histogram": [
           {
            "marker": {
             "pattern": {
              "fillmode": "overlay",
              "size": 10,
              "solidity": 0.2
             }
            },
            "type": "histogram"
           }
          ],
          "histogram2d": [
           {
            "colorbar": {
             "outlinewidth": 0,
             "ticks": ""
            },
            "colorscale": [
             [
              0,
              "#0d0887"
             ],
             [
              0.1111111111111111,
              "#46039f"
             ],
             [
              0.2222222222222222,
              "#7201a8"
             ],
             [
              0.3333333333333333,
              "#9c179e"
             ],
             [
              0.4444444444444444,
              "#bd3786"
             ],
             [
              0.5555555555555556,
              "#d8576b"
             ],
             [
              0.6666666666666666,
              "#ed7953"
             ],
             [
              0.7777777777777778,
              "#fb9f3a"
             ],
             [
              0.8888888888888888,
              "#fdca26"
             ],
             [
              1,
              "#f0f921"
             ]
            ],
            "type": "histogram2d"
           }
          ],
          "histogram2dcontour": [
           {
            "colorbar": {
             "outlinewidth": 0,
             "ticks": ""
            },
            "colorscale": [
             [
              0,
              "#0d0887"
             ],
             [
              0.1111111111111111,
              "#46039f"
             ],
             [
              0.2222222222222222,
              "#7201a8"
             ],
             [
              0.3333333333333333,
              "#9c179e"
             ],
             [
              0.4444444444444444,
              "#bd3786"
             ],
             [
              0.5555555555555556,
              "#d8576b"
             ],
             [
              0.6666666666666666,
              "#ed7953"
             ],
             [
              0.7777777777777778,
              "#fb9f3a"
             ],
             [
              0.8888888888888888,
              "#fdca26"
             ],
             [
              1,
              "#f0f921"
             ]
            ],
            "type": "histogram2dcontour"
           }
          ],
          "mesh3d": [
           {
            "colorbar": {
             "outlinewidth": 0,
             "ticks": ""
            },
            "type": "mesh3d"
           }
          ],
          "parcoords": [
           {
            "line": {
             "colorbar": {
              "outlinewidth": 0,
              "ticks": ""
             }
            },
            "type": "parcoords"
           }
          ],
          "pie": [
           {
            "automargin": true,
            "type": "pie"
           }
          ],
          "scatter": [
           {
            "fillpattern": {
             "fillmode": "overlay",
             "size": 10,
             "solidity": 0.2
            },
            "type": "scatter"
           }
          ],
          "scatter3d": [
           {
            "line": {
             "colorbar": {
              "outlinewidth": 0,
              "ticks": ""
             }
            },
            "marker": {
             "colorbar": {
              "outlinewidth": 0,
              "ticks": ""
             }
            },
            "type": "scatter3d"
           }
          ],
          "scattercarpet": [
           {
            "marker": {
             "colorbar": {
              "outlinewidth": 0,
              "ticks": ""
             }
            },
            "type": "scattercarpet"
           }
          ],
          "scattergeo": [
           {
            "marker": {
             "colorbar": {
              "outlinewidth": 0,
              "ticks": ""
             }
            },
            "type": "scattergeo"
           }
          ],
          "scattergl": [
           {
            "marker": {
             "colorbar": {
              "outlinewidth": 0,
              "ticks": ""
             }
            },
            "type": "scattergl"
           }
          ],
          "scattermapbox": [
           {
            "marker": {
             "colorbar": {
              "outlinewidth": 0,
              "ticks": ""
             }
            },
            "type": "scattermapbox"
           }
          ],
          "scatterpolar": [
           {
            "marker": {
             "colorbar": {
              "outlinewidth": 0,
              "ticks": ""
             }
            },
            "type": "scatterpolar"
           }
          ],
          "scatterpolargl": [
           {
            "marker": {
             "colorbar": {
              "outlinewidth": 0,
              "ticks": ""
             }
            },
            "type": "scatterpolargl"
           }
          ],
          "scatterternary": [
           {
            "marker": {
             "colorbar": {
              "outlinewidth": 0,
              "ticks": ""
             }
            },
            "type": "scatterternary"
           }
          ],
          "surface": [
           {
            "colorbar": {
             "outlinewidth": 0,
             "ticks": ""
            },
            "colorscale": [
             [
              0,
              "#0d0887"
             ],
             [
              0.1111111111111111,
              "#46039f"
             ],
             [
              0.2222222222222222,
              "#7201a8"
             ],
             [
              0.3333333333333333,
              "#9c179e"
             ],
             [
              0.4444444444444444,
              "#bd3786"
             ],
             [
              0.5555555555555556,
              "#d8576b"
             ],
             [
              0.6666666666666666,
              "#ed7953"
             ],
             [
              0.7777777777777778,
              "#fb9f3a"
             ],
             [
              0.8888888888888888,
              "#fdca26"
             ],
             [
              1,
              "#f0f921"
             ]
            ],
            "type": "surface"
           }
          ],
          "table": [
           {
            "cells": {
             "fill": {
              "color": "#EBF0F8"
             },
             "line": {
              "color": "white"
             }
            },
            "header": {
             "fill": {
              "color": "#C8D4E3"
             },
             "line": {
              "color": "white"
             }
            },
            "type": "table"
           }
          ]
         },
         "layout": {
          "annotationdefaults": {
           "arrowcolor": "#2a3f5f",
           "arrowhead": 0,
           "arrowwidth": 1
          },
          "autotypenumbers": "strict",
          "coloraxis": {
           "colorbar": {
            "outlinewidth": 0,
            "ticks": ""
           }
          },
          "colorscale": {
           "diverging": [
            [
             0,
             "#8e0152"
            ],
            [
             0.1,
             "#c51b7d"
            ],
            [
             0.2,
             "#de77ae"
            ],
            [
             0.3,
             "#f1b6da"
            ],
            [
             0.4,
             "#fde0ef"
            ],
            [
             0.5,
             "#f7f7f7"
            ],
            [
             0.6,
             "#e6f5d0"
            ],
            [
             0.7,
             "#b8e186"
            ],
            [
             0.8,
             "#7fbc41"
            ],
            [
             0.9,
             "#4d9221"
            ],
            [
             1,
             "#276419"
            ]
           ],
           "sequential": [
            [
             0,
             "#0d0887"
            ],
            [
             0.1111111111111111,
             "#46039f"
            ],
            [
             0.2222222222222222,
             "#7201a8"
            ],
            [
             0.3333333333333333,
             "#9c179e"
            ],
            [
             0.4444444444444444,
             "#bd3786"
            ],
            [
             0.5555555555555556,
             "#d8576b"
            ],
            [
             0.6666666666666666,
             "#ed7953"
            ],
            [
             0.7777777777777778,
             "#fb9f3a"
            ],
            [
             0.8888888888888888,
             "#fdca26"
            ],
            [
             1,
             "#f0f921"
            ]
           ],
           "sequentialminus": [
            [
             0,
             "#0d0887"
            ],
            [
             0.1111111111111111,
             "#46039f"
            ],
            [
             0.2222222222222222,
             "#7201a8"
            ],
            [
             0.3333333333333333,
             "#9c179e"
            ],
            [
             0.4444444444444444,
             "#bd3786"
            ],
            [
             0.5555555555555556,
             "#d8576b"
            ],
            [
             0.6666666666666666,
             "#ed7953"
            ],
            [
             0.7777777777777778,
             "#fb9f3a"
            ],
            [
             0.8888888888888888,
             "#fdca26"
            ],
            [
             1,
             "#f0f921"
            ]
           ]
          },
          "colorway": [
           "#636efa",
           "#EF553B",
           "#00cc96",
           "#ab63fa",
           "#FFA15A",
           "#19d3f3",
           "#FF6692",
           "#B6E880",
           "#FF97FF",
           "#FECB52"
          ],
          "font": {
           "color": "#2a3f5f"
          },
          "geo": {
           "bgcolor": "white",
           "lakecolor": "white",
           "landcolor": "#E5ECF6",
           "showlakes": true,
           "showland": true,
           "subunitcolor": "white"
          },
          "hoverlabel": {
           "align": "left"
          },
          "hovermode": "closest",
          "mapbox": {
           "style": "light"
          },
          "paper_bgcolor": "white",
          "plot_bgcolor": "#E5ECF6",
          "polar": {
           "angularaxis": {
            "gridcolor": "white",
            "linecolor": "white",
            "ticks": ""
           },
           "bgcolor": "#E5ECF6",
           "radialaxis": {
            "gridcolor": "white",
            "linecolor": "white",
            "ticks": ""
           }
          },
          "scene": {
           "xaxis": {
            "backgroundcolor": "#E5ECF6",
            "gridcolor": "white",
            "gridwidth": 2,
            "linecolor": "white",
            "showbackground": true,
            "ticks": "",
            "zerolinecolor": "white"
           },
           "yaxis": {
            "backgroundcolor": "#E5ECF6",
            "gridcolor": "white",
            "gridwidth": 2,
            "linecolor": "white",
            "showbackground": true,
            "ticks": "",
            "zerolinecolor": "white"
           },
           "zaxis": {
            "backgroundcolor": "#E5ECF6",
            "gridcolor": "white",
            "gridwidth": 2,
            "linecolor": "white",
            "showbackground": true,
            "ticks": "",
            "zerolinecolor": "white"
           }
          },
          "shapedefaults": {
           "line": {
            "color": "#2a3f5f"
           }
          },
          "ternary": {
           "aaxis": {
            "gridcolor": "white",
            "linecolor": "white",
            "ticks": ""
           },
           "baxis": {
            "gridcolor": "white",
            "linecolor": "white",
            "ticks": ""
           },
           "bgcolor": "#E5ECF6",
           "caxis": {
            "gridcolor": "white",
            "linecolor": "white",
            "ticks": ""
           }
          },
          "title": {
           "x": 0.05
          },
          "xaxis": {
           "automargin": true,
           "gridcolor": "white",
           "linecolor": "white",
           "ticks": "",
           "title": {
            "standoff": 15
           },
           "zerolinecolor": "white",
           "zerolinewidth": 2
          },
          "yaxis": {
           "automargin": true,
           "gridcolor": "white",
           "linecolor": "white",
           "ticks": "",
           "title": {
            "standoff": 15
           },
           "zerolinecolor": "white",
           "zerolinewidth": 2
          }
         }
        },
        "width": 1000
       }
      }
     },
     "metadata": {},
     "output_type": "display_data"
    }
   ],
   "source": [
    "fig = px.scatter_3d(df_cluster_data, x='tot_annual_income', y='last_donation_made', z='annual_contribution',\n",
    "              symbol='future_donation?', color='cluster', width=1000, height=1000)\n",
    "\n",
    "\n",
    "fig.update_layout(legend=dict(\n",
    "    orientation=\"h\",\n",
    "    yanchor=\"bottom\",\n",
    "    y=1.02,\n",
    "    xanchor=\"right\",\n",
    "    x=1\n",
    "))\n",
    "fig.show()"
   ]
  }
 ],
 "metadata": {
  "kernelspec": {
   "display_name": "Python 3.9.5 64-bit",
   "language": "python",
   "name": "python3"
  },
  "language_info": {
   "codemirror_mode": {
    "name": "ipython",
    "version": 3
   },
   "file_extension": ".py",
   "mimetype": "text/x-python",
   "name": "python",
   "nbconvert_exporter": "python",
   "pygments_lexer": "ipython3",
   "version": "3.9.5"
  },
  "vscode": {
   "interpreter": {
    "hash": "9b2acef8e2c5227b58b081fc5d4aedf12682445d27a0f9ba9aded69088964c4f"
   }
  }
 },
 "nbformat": 4,
 "nbformat_minor": 2
}
